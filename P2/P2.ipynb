{
  "nbformat": 4,
  "nbformat_minor": 0,
  "metadata": {
    "colab": {
      "name": "P2.ipynb",
      "provenance": [],
      "include_colab_link": true
    },
    "kernelspec": {
      "display_name": ".venv",
      "language": "python",
      "name": "python3"
    },
    "language_info": {
      "codemirror_mode": {
        "name": "ipython"
      },
      "file_extension": ".py",
      "mimetype": "text/x-python",
      "name": "python",
      "nbconvert_exporter": "python",
      "pygments_lexer": "ipython3",
      "version": "3.10.12"
    }
  },
  "cells": [
    {
      "cell_type": "markdown",
      "metadata": {
        "id": "view-in-github",
        "colab_type": "text"
      },
      "source": [
        "<a href=\"https://colab.research.google.com/github/MarcosRigal/CNC/blob/main/P2/P2.ipynb\" target=\"_parent\"><img src=\"https://colab.research.google.com/assets/colab-badge.svg\" alt=\"Open In Colab\"/></a>"
      ]
    },
    {
      "cell_type": "markdown",
      "metadata": {
        "id": "title"
      },
      "source": [
        "# **Práctica 2: Clasificación Multi-Instancia**\n",
        "\n",
        "## Opción 2: Comparación de métodos\n",
        "\n",
        "**Objetivo**: Comparar al menos dos algoritmos disponibles en bibliotecas de aprendizaje multi-instancia. Se seleccionan al menos tres conjuntos de datos de tipo multi-instancia para realizar la evaluación y comparación.\n",
        "\n",
        "En este notebook:\n",
        "- Se entrenan dos modelos de clasificación multi-instancia: **MISVM** y **MILES**.\n",
        "- Se usan tres datasets: (en este caso se ejemplifica con) **Musk1**, **Elephant** y **Breast Cancer**.\n",
        "- Se comparan sus resultados (precisión, F1, AUC y matrices de confusión).\n",
        "- Se presentan conclusiones sobre los hallazgos."
      ]
    },
    {
      "cell_type": "markdown",
      "metadata": {
        "id": "instalacion"
      },
      "source": [
        "## 1. Instalación de librerías\n",
        "Si usas Google Colab, puedes necesitar instalar las librerías correspondientes. Si ya tienes un entorno con `misvm` y `mil` instalados, puedes omitirlo."
      ]
    },
    {
      "cell_type": "code",
      "metadata": {
        "collapsed": true,
        "id": "instalacion-code",
        "outputId": "caa997a1-77cd-4090-9ff7-95125a2d23b1",
        "colab": {
          "base_uri": "https://localhost:8080/"
        }
      },
      "execution_count": 1,
      "outputs": [
        {
          "output_type": "stream",
          "name": "stdout",
          "text": [
            "Collecting git+https://github.com/garydoranjr/misvm.git\n",
            "  Cloning https://github.com/garydoranjr/misvm.git to /tmp/pip-req-build-1id62j9h\n",
            "  Running command git clone --filter=blob:none --quiet https://github.com/garydoranjr/misvm.git /tmp/pip-req-build-1id62j9h\n",
            "  Resolved https://github.com/garydoranjr/misvm.git to commit b2118fe04d98c00436bdf8a0e4bbfb6082c5751c\n",
            "  Preparing metadata (setup.py) ... \u001b[?25l\u001b[?25hdone\n",
            "Requirement already satisfied: numpy in /usr/local/lib/python3.11/dist-packages (from misvm==1.0) (1.23.5)\n",
            "Requirement already satisfied: scipy in /usr/local/lib/python3.11/dist-packages (from misvm==1.0) (1.13.1)\n",
            "Requirement already satisfied: cvxopt in /usr/local/lib/python3.11/dist-packages (from misvm==1.0) (1.3.2)\n",
            "Requirement already satisfied: numpy in /usr/local/lib/python3.11/dist-packages (1.23.5)\n",
            "Requirement already satisfied: scikit-learn in /usr/local/lib/python3.11/dist-packages (1.6.1)\n",
            "Requirement already satisfied: scipy in /usr/local/lib/python3.11/dist-packages (1.13.1)\n",
            "Requirement already satisfied: tensorflow==2.12.0 in /usr/local/lib/python3.11/dist-packages (2.12.0)\n",
            "Requirement already satisfied: mil in /usr/local/lib/python3.11/dist-packages (1.0.5)\n",
            "Requirement already satisfied: absl-py>=1.0.0 in /usr/local/lib/python3.11/dist-packages (from tensorflow==2.12.0) (1.4.0)\n",
            "Requirement already satisfied: astunparse>=1.6.0 in /usr/local/lib/python3.11/dist-packages (from tensorflow==2.12.0) (1.6.3)\n",
            "Requirement already satisfied: flatbuffers>=2.0 in /usr/local/lib/python3.11/dist-packages (from tensorflow==2.12.0) (25.2.10)\n",
            "Requirement already satisfied: gast<=0.4.0,>=0.2.1 in /usr/local/lib/python3.11/dist-packages (from tensorflow==2.12.0) (0.4.0)\n",
            "Requirement already satisfied: google-pasta>=0.1.1 in /usr/local/lib/python3.11/dist-packages (from tensorflow==2.12.0) (0.2.0)\n",
            "Requirement already satisfied: grpcio<2.0,>=1.24.3 in /usr/local/lib/python3.11/dist-packages (from tensorflow==2.12.0) (1.70.0)\n",
            "Requirement already satisfied: h5py>=2.9.0 in /usr/local/lib/python3.11/dist-packages (from tensorflow==2.12.0) (3.12.1)\n",
            "Requirement already satisfied: jax>=0.3.15 in /usr/local/lib/python3.11/dist-packages (from tensorflow==2.12.0) (0.4.30)\n",
            "Requirement already satisfied: keras<2.13,>=2.12.0 in /usr/local/lib/python3.11/dist-packages (from tensorflow==2.12.0) (2.12.0)\n",
            "Requirement already satisfied: libclang>=13.0.0 in /usr/local/lib/python3.11/dist-packages (from tensorflow==2.12.0) (18.1.1)\n",
            "Requirement already satisfied: opt-einsum>=2.3.2 in /usr/local/lib/python3.11/dist-packages (from tensorflow==2.12.0) (3.4.0)\n",
            "Requirement already satisfied: packaging in /usr/local/lib/python3.11/dist-packages (from tensorflow==2.12.0) (24.2)\n",
            "Requirement already satisfied: protobuf!=4.21.0,!=4.21.1,!=4.21.2,!=4.21.3,!=4.21.4,!=4.21.5,<5.0.0dev,>=3.20.3 in /usr/local/lib/python3.11/dist-packages (from tensorflow==2.12.0) (4.25.6)\n",
            "Requirement already satisfied: setuptools in /usr/local/lib/python3.11/dist-packages (from tensorflow==2.12.0) (75.1.0)\n",
            "Requirement already satisfied: six>=1.12.0 in /usr/local/lib/python3.11/dist-packages (from tensorflow==2.12.0) (1.17.0)\n",
            "Requirement already satisfied: tensorboard<2.13,>=2.12 in /usr/local/lib/python3.11/dist-packages (from tensorflow==2.12.0) (2.12.3)\n",
            "Requirement already satisfied: tensorflow-estimator<2.13,>=2.12.0 in /usr/local/lib/python3.11/dist-packages (from tensorflow==2.12.0) (2.12.0)\n",
            "Requirement already satisfied: termcolor>=1.1.0 in /usr/local/lib/python3.11/dist-packages (from tensorflow==2.12.0) (2.5.0)\n",
            "Requirement already satisfied: typing-extensions>=3.6.6 in /usr/local/lib/python3.11/dist-packages (from tensorflow==2.12.0) (4.12.2)\n",
            "Requirement already satisfied: wrapt<1.15,>=1.11.0 in /usr/local/lib/python3.11/dist-packages (from tensorflow==2.12.0) (1.14.1)\n",
            "Requirement already satisfied: tensorflow-io-gcs-filesystem>=0.23.1 in /usr/local/lib/python3.11/dist-packages (from tensorflow==2.12.0) (0.37.1)\n",
            "Requirement already satisfied: joblib>=1.2.0 in /usr/local/lib/python3.11/dist-packages (from scikit-learn) (1.4.2)\n",
            "Requirement already satisfied: threadpoolctl>=3.1.0 in /usr/local/lib/python3.11/dist-packages (from scikit-learn) (3.5.0)\n",
            "Requirement already satisfied: wheel<1.0,>=0.23.0 in /usr/local/lib/python3.11/dist-packages (from astunparse>=1.6.0->tensorflow==2.12.0) (0.45.1)\n",
            "Requirement already satisfied: jaxlib<=0.4.30,>=0.4.27 in /usr/local/lib/python3.11/dist-packages (from jax>=0.3.15->tensorflow==2.12.0) (0.4.30)\n",
            "Requirement already satisfied: ml-dtypes>=0.2.0 in /usr/local/lib/python3.11/dist-packages (from jax>=0.3.15->tensorflow==2.12.0) (0.4.1)\n",
            "Requirement already satisfied: google-auth<3,>=1.6.3 in /usr/local/lib/python3.11/dist-packages (from tensorboard<2.13,>=2.12->tensorflow==2.12.0) (2.27.0)\n",
            "Requirement already satisfied: google-auth-oauthlib<1.1,>=0.5 in /usr/local/lib/python3.11/dist-packages (from tensorboard<2.13,>=2.12->tensorflow==2.12.0) (1.0.0)\n",
            "Requirement already satisfied: markdown>=2.6.8 in /usr/local/lib/python3.11/dist-packages (from tensorboard<2.13,>=2.12->tensorflow==2.12.0) (3.7)\n",
            "Requirement already satisfied: requests<3,>=2.21.0 in /usr/local/lib/python3.11/dist-packages (from tensorboard<2.13,>=2.12->tensorflow==2.12.0) (2.32.3)\n",
            "Requirement already satisfied: tensorboard-data-server<0.8.0,>=0.7.0 in /usr/local/lib/python3.11/dist-packages (from tensorboard<2.13,>=2.12->tensorflow==2.12.0) (0.7.2)\n",
            "Requirement already satisfied: werkzeug>=1.0.1 in /usr/local/lib/python3.11/dist-packages (from tensorboard<2.13,>=2.12->tensorflow==2.12.0) (3.1.3)\n",
            "Requirement already satisfied: cachetools<6.0,>=2.0.0 in /usr/local/lib/python3.11/dist-packages (from google-auth<3,>=1.6.3->tensorboard<2.13,>=2.12->tensorflow==2.12.0) (5.5.2)\n",
            "Requirement already satisfied: pyasn1-modules>=0.2.1 in /usr/local/lib/python3.11/dist-packages (from google-auth<3,>=1.6.3->tensorboard<2.13,>=2.12->tensorflow==2.12.0) (0.4.1)\n",
            "Requirement already satisfied: rsa<5,>=3.1.4 in /usr/local/lib/python3.11/dist-packages (from google-auth<3,>=1.6.3->tensorboard<2.13,>=2.12->tensorflow==2.12.0) (4.9)\n",
            "Requirement already satisfied: requests-oauthlib>=0.7.0 in /usr/local/lib/python3.11/dist-packages (from google-auth-oauthlib<1.1,>=0.5->tensorboard<2.13,>=2.12->tensorflow==2.12.0) (2.0.0)\n",
            "Requirement already satisfied: charset-normalizer<4,>=2 in /usr/local/lib/python3.11/dist-packages (from requests<3,>=2.21.0->tensorboard<2.13,>=2.12->tensorflow==2.12.0) (3.4.1)\n",
            "Requirement already satisfied: idna<4,>=2.5 in /usr/local/lib/python3.11/dist-packages (from requests<3,>=2.21.0->tensorboard<2.13,>=2.12->tensorflow==2.12.0) (3.10)\n",
            "Requirement already satisfied: urllib3<3,>=1.21.1 in /usr/local/lib/python3.11/dist-packages (from requests<3,>=2.21.0->tensorboard<2.13,>=2.12->tensorflow==2.12.0) (2.3.0)\n",
            "Requirement already satisfied: certifi>=2017.4.17 in /usr/local/lib/python3.11/dist-packages (from requests<3,>=2.21.0->tensorboard<2.13,>=2.12->tensorflow==2.12.0) (2025.1.31)\n",
            "Requirement already satisfied: MarkupSafe>=2.1.1 in /usr/local/lib/python3.11/dist-packages (from werkzeug>=1.0.1->tensorboard<2.13,>=2.12->tensorflow==2.12.0) (3.0.2)\n",
            "Requirement already satisfied: pyasn1<0.7.0,>=0.4.6 in /usr/local/lib/python3.11/dist-packages (from pyasn1-modules>=0.2.1->google-auth<3,>=1.6.3->tensorboard<2.13,>=2.12->tensorflow==2.12.0) (0.6.1)\n",
            "Requirement already satisfied: oauthlib>=3.0.0 in /usr/local/lib/python3.11/dist-packages (from requests-oauthlib>=0.7.0->google-auth-oauthlib<1.1,>=0.5->tensorboard<2.13,>=2.12->tensorflow==2.12.0) (3.2.2)\n"
          ]
        }
      ],
      "source": [
        "!pip install git+https://github.com/garydoranjr/misvm.git\n",
        "!pip install numpy scikit-learn scipy tensorflow==2.12.0 mil"
      ]
    },
    {
      "cell_type": "markdown",
      "metadata": {
        "id": "importaciones"
      },
      "source": [
        "## 2. Importaciones y carga de datos\n",
        "Se importan las librerías necesarias y se cargan los datasets **Musk1**, **Elephant** y **Breast Cancer** a partir de la biblioteca `mil`.\n",
        "\n",
        "También se realiza un preprocesamiento que incluye:\n",
        "- **Imputación** de valores faltantes con la media (sobre cada característica en el conjunto de entrenamiento).\n",
        "- **Estandarización** (z-score) basándose en la media y desviación estándar del conjunto de entrenamiento."
      ]
    },
    {
      "cell_type": "code",
      "metadata": {
        "id": "load-data",
        "outputId": "ad756e41-5909-4902-92f2-72090f796be3",
        "colab": {
          "base_uri": "https://localhost:8080/"
        }
      },
      "execution_count": 2,
      "outputs": [
        {
          "output_type": "stream",
          "name": "stdout",
          "text": [
            "Cargando datasets...\n",
            "\n",
            "Preprocesando Musk1...\n",
            "\n",
            "Preprocesando Elephant...\n",
            "\n",
            "Preprocesando Breast Cancer...\n",
            "\n",
            "Datos cargados y preprocesados correctamente.\n"
          ]
        }
      ],
      "source": [
        "import numpy as np\n",
        "import matplotlib.pyplot as plt\n",
        "import seaborn as sns\n",
        "from sklearn.metrics import accuracy_score, f1_score, confusion_matrix\n",
        "from mil.data.datasets import loader\n",
        "import misvm\n",
        "from mil.bag_representation import MILESMapping\n",
        "from mil.validators import LeaveOneOut\n",
        "from mil.models import SVC\n",
        "from mil.trainer import Trainer\n",
        "from mil.metrics import AUC, Accuracy\n",
        "from sklearn.impute import SimpleImputer\n",
        "\n",
        "print(\"Cargando datasets...\")\n",
        "# Cargar Musk1\n",
        "(musk1_bags_train, musk1_y_train), (musk1_bags_test, musk1_y_test) = loader.load_data('/usr/local/lib/python3.11/dist-packages/mil/data/datasets/csv/musk1.csv')\n",
        "# Cargar Elephant\n",
        "(elephant_bags_train, elephant_y_train), (elephant_bags_test, elephant_y_test) = loader.load_data('/usr/local/lib/python3.11/dist-packages/mil/data/datasets/csv/elephant.csv')\n",
        "# Cargar Breast Cancer\n",
        "(breast_cancer_bags_train, breast_cancer_y_train), (breast_cancer_bags_test, breast_cancer_y_test) = loader.load_data('/usr/local/lib/python3.11/dist-packages/mil/data/datasets/csv/ucsb_breast_cancer.csv')\n",
        "\n",
        "def impute_missing_values(bags_train, bags_test):\n",
        "    \"\"\"Imputa valores faltantes usando la media del conjunto de entrenamiento.\"\"\"\n",
        "    imputer = SimpleImputer(strategy=\"mean\")\n",
        "    bags_train_imputed = [imputer.fit_transform(bag) for bag in bags_train]\n",
        "    # En test, se usan estadísticas calculadas en el train\n",
        "    bags_test_imputed = [imputer.transform(bag) for bag in bags_test]\n",
        "    return bags_train_imputed, bags_test_imputed\n",
        "\n",
        "def robust_standardize(bags_train, bags_test):\n",
        "    \"\"\"Estandariza las bolsas usando media y desviación estándar del train.\"\"\"\n",
        "    standardized_bags_train = []\n",
        "    standardized_bags_test = []\n",
        "\n",
        "    # Calcular mean y std usando todas las instancias del train\n",
        "    means = np.mean(np.vstack(bags_train), axis=0)\n",
        "    stds = np.std(np.vstack(bags_train), axis=0)\n",
        "    stds[stds == 0] = 1  # Para evitar división por cero\n",
        "\n",
        "    for bag in bags_train:\n",
        "        standardized_bags_train.append((bag - means) / stds)\n",
        "    for bag in bags_test:\n",
        "        standardized_bags_test.append((bag - means) / stds)\n",
        "    return standardized_bags_train, standardized_bags_test\n",
        "\n",
        "datasets = {\n",
        "    \"Musk1\": (musk1_bags_train, musk1_bags_test, musk1_y_train, musk1_y_test),\n",
        "    \"Elephant\": (elephant_bags_train, elephant_bags_test, elephant_y_train, elephant_y_test),\n",
        "    \"Breast Cancer\": (breast_cancer_bags_train, breast_cancer_bags_test, breast_cancer_y_train, breast_cancer_y_test)\n",
        "}\n",
        "\n",
        "# Aplicar preprocesamiento a cada conjunto\n",
        "for name, (train_bags, test_bags, y_train, y_test) in datasets.items():\n",
        "    print(f\"\\nPreprocesando {name}...\")\n",
        "    train_bags, test_bags = impute_missing_values(train_bags, test_bags)\n",
        "    train_bags, test_bags = robust_standardize(train_bags, test_bags)\n",
        "    if name == \"Musk1\":\n",
        "        musk1_bags_train, musk1_bags_test = train_bags, test_bags\n",
        "    elif name == \"Elephant\":\n",
        "        elephant_bags_train, elephant_bags_test = train_bags, test_bags\n",
        "    elif name == \"Breast Cancer\":\n",
        "        breast_cancer_bags_train, breast_cancer_bags_test = train_bags, test_bags\n",
        "\n",
        "print(\"\\nDatos cargados y preprocesados correctamente.\")"
      ]
    },
    {
      "cell_type": "markdown",
      "metadata": {
        "id": "definicion-eval"
      },
      "source": [
        "## 3. Definición de funciones de evaluación\n",
        "En esta sección definimos:\n",
        "\n",
        "- `evaluate_misvm(...)`: para entrenar y evaluar un clasificador **MISVM** (de la librería [garydoranjr/misvm](https://github.com/garydoranjr/misvm)).\n",
        "- `evaluate_miles(...)`: para entrenar y evaluar un clasificador **MILES** usando la biblioteca [`mil`](https://pypi.org/project/mil/)."
      ]
    },
    {
      "cell_type": "code",
      "metadata": {
        "id": "evaluate-functions"
      },
      "execution_count": 3,
      "outputs": [],
      "source": [
        "def evaluate_misvm(bags_train, y_train, bags_test, y_test, kernel='linear', C=1.0, max_iters=50):\n",
        "    \"\"\"\n",
        "    Entrena y evalúa un clasificador MISVM.\n",
        "    Retorna (accuracy, f1_score, matriz_confusion).\n",
        "    \"\"\"\n",
        "    print(f\"Entrenando MISVM con kernel={kernel}, C={C}...\")\n",
        "    classifier = misvm.MISVM(kernel=kernel, C=C, max_iters=max_iters)\n",
        "\n",
        "    # Convertir etiquetas a binario (0 o 1)\n",
        "    y_train_binary = np.array([1 if y > 0 else 0 for y in y_train])\n",
        "    y_test_binary = np.array([1 if y > 0 else 0 for y in y_test])\n",
        "\n",
        "    try:\n",
        "        classifier.fit(bags_train, y_train_binary)\n",
        "        y_pred = classifier.predict(bags_test)\n",
        "        # Asegurar predicciones binarias\n",
        "        y_pred_binary = np.array([1 if pred > 0 else 0 for pred in y_pred])\n",
        "\n",
        "        acc = accuracy_score(y_test_binary, y_pred_binary)\n",
        "        f1 = f1_score(y_test_binary, y_pred_binary, zero_division=0)\n",
        "        cm = confusion_matrix(y_test_binary, y_pred_binary)\n",
        "        return acc, f1, cm\n",
        "    except Exception as e:\n",
        "        print(f\"Error entrenando MISVM: {e}\")\n",
        "        # Retornar valores por defecto en caso de error\n",
        "        return 0.0, 0.0, np.array([[0, 0], [0, 0]])\n",
        "\n",
        "def evaluate_miles(bags_train, y_train, bags_test, y_test, kernel='linear', C=1.0):\n",
        "    \"\"\"\n",
        "    Entrena y evalúa MILES utilizando el pipeline de la librería mil.\n",
        "    Retorna (accuracy, auc).\n",
        "    \"\"\"\n",
        "    print(f\"Entrenando MILES con kernel={kernel}, C={C}...\")\n",
        "    trainer = Trainer()\n",
        "    metrics = [Accuracy, AUC]\n",
        "    model = SVC(kernel=kernel, C=C, class_weight='balanced')\n",
        "    # MILESMapping realiza el mapeo de instancias a \"prototipos\".\n",
        "    pipeline = [('disc_mapping', MILESMapping())]\n",
        "    trainer.prepare(model, preprocess_pipeline=pipeline, metrics=metrics)\n",
        "\n",
        "    # Convertir etiquetas a binario\n",
        "    y_train_binary = np.array([1 if y > 0 else 0 for y in y_train])\n",
        "    y_test_binary = np.array([1 if y > 0 else 0 for y in y_test])\n",
        "\n",
        "    valid = LeaveOneOut()\n",
        "    try:\n",
        "        trainer.fit(bags_train, y_train_binary, sample_weights='balanced', validation_strategy=valid, verbose=0)\n",
        "        result = trainer.predict_metrics(bags_test, y_test_binary)\n",
        "        acc = result.get('accuracy', 0.0)\n",
        "        auc_ = result.get('auc', 0.5)\n",
        "        return acc, auc_\n",
        "    except Exception as e:\n",
        "        print(f\"Error entrenando MILES: {e}\")\n",
        "        return 0.0, 0.5"
      ]
    },
    {
      "cell_type": "markdown",
      "metadata": {
        "id": "experimentos"
      },
      "source": [
        "## 4. Ejecución de experimentos\n",
        "En esta sección se entrena y evalúa cada uno de los algoritmos en los datasets (Musk1, Elephant y Breast Cancer)."
      ]
    },
    {
      "cell_type": "code",
      "metadata": {
        "id": "run-experiments",
        "outputId": "886e32e6-9289-4305-adb4-e422e3f242d3",
        "colab": {
          "base_uri": "https://localhost:8080/"
        }
      },
      "execution_count": 4,
      "outputs": [
        {
          "output_type": "stream",
          "name": "stdout",
          "text": [
            "\n",
            "=== Evaluando MILES ===\n",
            "(1) MILES en Musk1...\n",
            "Entrenando MILES con kernel=linear, C=1.0...\n",
            "Musk1 -> Accuracy: 0.6842, AUC: 0.7273\n",
            "\n",
            "(2) MILES en Elephant...\n",
            "Entrenando MILES con kernel=linear, C=1.0...\n",
            "Elephant -> Accuracy: 0.7500, AUC: 0.7424\n",
            "\n",
            "(3) MILES en Breast Cancer...\n",
            "Entrenando MILES con kernel=linear, C=1.0...\n",
            "Breast Cancer -> Accuracy: 0.5833, AUC: 0.5000\n",
            "\n",
            "\n",
            "=== Evaluando MISVM ===\n",
            "(1) MISVM en Musk1...\n",
            "Entrenando MISVM con kernel=rbf, C=10.0...\n",
            "Non-random start...\n",
            "\n",
            "Iteration 1...\n",
            "Training SVM...\n",
            "     pcost       dcost       gap    pres   dres\n",
            " 0: -2.7887e+01 -1.0768e+01  7e+02  3e+01  3e-16\n",
            " 1: -5.0579e+00 -6.6783e+00  2e+01  7e-01  4e-16\n",
            " 2: -3.0299e+00 -5.0561e+00  2e+00  1e-16  5e-16\n",
            " 3: -3.1237e+00 -3.2459e+00  1e-01  8e-16  3e-16\n",
            " 4: -3.1244e+00 -3.1336e+00  9e-03  3e-16  2e-16\n",
            " 5: -3.1248e+00 -3.1260e+00  1e-03  2e-16  2e-16\n",
            " 6: -3.1250e+00 -3.1250e+00  6e-05  6e-17  2e-16\n",
            " 7: -3.1250e+00 -3.1250e+00  6e-07  1e-16  2e-16\n",
            "Optimal solution found.\n",
            "Recomputing classes...\n",
            "Selector differences: 227\n",
            "Updating QP...\n",
            "\n",
            "Iteration 2...\n",
            "Training SVM...\n",
            "     pcost       dcost       gap    pres   dres\n",
            " 0: -2.7888e+01 -1.0768e+01  7e+02  3e+01  2e-16\n",
            " 1: -5.0578e+00 -6.6783e+00  2e+01  7e-01  5e-16\n",
            " 2: -3.0299e+00 -5.0560e+00  2e+00  1e-15  6e-16\n",
            " 3: -3.1237e+00 -3.2459e+00  1e-01  6e-16  5e-16\n",
            " 4: -3.1244e+00 -3.1336e+00  9e-03  4e-16  2e-16\n",
            " 5: -3.1248e+00 -3.1260e+00  1e-03  5e-16  2e-16\n",
            " 6: -3.1250e+00 -3.1250e+00  6e-05  2e-16  3e-16\n",
            " 7: -3.1250e+00 -3.1250e+00  6e-07  1e-16  2e-16\n",
            "Optimal solution found.\n",
            "Recomputing classes...\n",
            "Selector differences: 0\n",
            "Musk1 -> Accuracy: 0.4211, F1: 0.0000\n",
            "\n",
            "(2) MISVM en Elephant...\n",
            "Entrenando MISVM con kernel=rbf, C=10.0...\n",
            "Non-random start...\n",
            "\n",
            "Iteration 1...\n",
            "Training SVM...\n",
            "     pcost       dcost       gap    pres   dres\n",
            " 0: -6.4204e+01 -1.5752e+01  2e+03  4e+01  3e-16\n",
            " 1: -7.5932e+00 -6.0743e+00  6e+01  1e+00  6e-16\n",
            " 2: -2.6199e+00 -5.4605e+00  3e+00  2e-16  9e-16\n",
            " 3: -2.7249e+00 -2.8652e+00  1e-01  1e-16  5e-16\n",
            " 4: -2.7314e+00 -2.7372e+00  6e-03  1e-16  4e-16\n",
            " 5: -2.7318e+00 -2.7346e+00  3e-03  7e-16  4e-15\n",
            " 6: -2.7321e+00 -2.7332e+00  1e-03  5e-16  3e-15\n",
            " 7: -2.7322e+00 -2.7324e+00  2e-04  3e-16  8e-16\n",
            " 8: -2.7322e+00 -2.7322e+00  2e-05  1e-15  2e-15\n",
            " 9: -2.7322e+00 -2.7322e+00  8e-07  6e-16  8e-15\n",
            "Optimal solution found.\n",
            "Recomputing classes...\n",
            "Selector differences: 568\n",
            "Updating QP...\n",
            "\n",
            "Iteration 2...\n",
            "Training SVM...\n",
            "     pcost       dcost       gap    pres   dres\n",
            " 0: -6.4867e+01 -1.5646e+01  2e+03  4e+01  3e-16\n",
            " 1: -7.4013e+00 -6.0605e+00  6e+01  1e+00  5e-16\n",
            " 2: -2.6229e+00 -5.4344e+00  3e+00  4e-16  8e-16\n",
            " 3: -2.7255e+00 -2.8779e+00  2e-01  9e-16  5e-16\n",
            " 4: -2.7320e+00 -2.7365e+00  5e-03  9e-16  3e-16\n",
            " 5: -2.7324e+00 -2.7336e+00  1e-03  8e-16  2e-15\n",
            " 6: -2.7325e+00 -2.7327e+00  2e-04  5e-17  2e-15\n",
            " 7: -2.7325e+00 -2.7326e+00  6e-06  6e-16  8e-16\n",
            " 8: -2.7325e+00 -2.7325e+00  6e-08  1e-15  6e-16\n",
            "Optimal solution found.\n",
            "Recomputing classes...\n",
            "Selector differences: 0\n",
            "Elephant -> Accuracy: 0.5500, F1: 0.0000\n",
            "\n",
            "(3) MISVM en Breast Cancer...\n",
            "Entrenando MISVM con kernel=rbf, C=10.0...\n",
            "Non-random start...\n",
            "\n",
            "Iteration 1...\n",
            "Training SVM...\n",
            "     pcost       dcost       gap    pres   dres\n",
            " 0: -1.8927e+01 -3.9403e+00  2e+03  5e+01  2e-16\n",
            " 1: -1.5386e+00 -1.1556e+00  5e+01  1e+00  6e-16\n",
            " 2: -5.1853e-01 -1.0626e+00  2e+00  4e-02  6e-16\n",
            " 3: -4.7606e-01 -7.5477e-01  4e-01  3e-03  6e-16\n",
            " 4: -4.7257e-01 -5.1627e-01  4e-02  1e-16  2e-16\n",
            " 5: -4.7319e-01 -4.7365e-01  5e-04  4e-16  1e-16\n",
            " 6: -4.7320e-01 -4.7323e-01  3e-05  2e-16  8e-17\n",
            " 7: -4.7320e-01 -4.7320e-01  2e-06  5e-16  1e-16\n",
            " 8: -4.7320e-01 -4.7320e-01  5e-08  1e-16  8e-17\n",
            "Optimal solution found.\n",
            "Recomputing classes...\n",
            "Selector differences: 885\n",
            "Updating QP...\n",
            "\n",
            "Iteration 2...\n",
            "Training SVM...\n",
            "     pcost       dcost       gap    pres   dres\n",
            " 0: -1.8927e+01 -3.9403e+00  2e+03  5e+01  2e-16\n",
            " 1: -1.5386e+00 -1.1556e+00  5e+01  1e+00  6e-16\n",
            " 2: -5.1853e-01 -1.0626e+00  2e+00  4e-02  6e-16\n",
            " 3: -4.7606e-01 -7.5477e-01  4e-01  3e-03  6e-16\n",
            " 4: -4.7257e-01 -5.1627e-01  4e-02  1e-16  2e-16\n",
            " 5: -4.7319e-01 -4.7365e-01  5e-04  4e-16  1e-16\n",
            " 6: -4.7320e-01 -4.7323e-01  3e-05  2e-16  8e-17\n",
            " 7: -4.7320e-01 -4.7320e-01  2e-06  5e-16  1e-16\n",
            " 8: -4.7320e-01 -4.7320e-01  5e-08  1e-16  8e-17\n",
            "Optimal solution found.\n",
            "Recomputing classes...\n",
            "Selector differences: 0\n",
            "Breast Cancer -> Accuracy: 0.5833, F1: 0.0000\n",
            "\n"
          ]
        }
      ],
      "source": [
        "# Etiquetas originales (cargadas arriba)\n",
        "# musk1_bags_train, musk1_bags_test, musk1_y_train, musk1_y_test\n",
        "# elephant_bags_train, elephant_bags_test, elephant_y_train, elephant_y_test\n",
        "# breast_cancer_bags_train, breast_cancer_bags_test, breast_cancer_y_train, breast_cancer_y_test\n",
        "\n",
        "print(\"\\n=== Evaluando MILES ===\")\n",
        "print(\"(1) MILES en Musk1...\")\n",
        "miles_musk1 = evaluate_miles(\n",
        "    musk1_bags_train, musk1_y_train,\n",
        "    musk1_bags_test, musk1_y_test,\n",
        "    kernel='linear', C=1.0\n",
        ")\n",
        "print(f\"Musk1 -> Accuracy: {miles_musk1[0]:.4f}, AUC: {miles_musk1[1]:.4f}\\n\")\n",
        "\n",
        "print(\"(2) MILES en Elephant...\")\n",
        "miles_elephant = evaluate_miles(\n",
        "    elephant_bags_train, elephant_y_train,\n",
        "    elephant_bags_test, elephant_y_test,\n",
        "    kernel='linear', C=1.0\n",
        ")\n",
        "print(f\"Elephant -> Accuracy: {miles_elephant[0]:.4f}, AUC: {miles_elephant[1]:.4f}\\n\")\n",
        "\n",
        "print(\"(3) MILES en Breast Cancer...\")\n",
        "miles_breast_cancer = evaluate_miles(\n",
        "    breast_cancer_bags_train, breast_cancer_y_train,\n",
        "    breast_cancer_bags_test, breast_cancer_y_test,\n",
        "    kernel='linear', C=1.0\n",
        ")\n",
        "print(f\"Breast Cancer -> Accuracy: {miles_breast_cancer[0]:.4f}, AUC: {miles_breast_cancer[1]:.4f}\\n\")\n",
        "\n",
        "print(\"\\n=== Evaluando MISVM ===\")\n",
        "print(\"(1) MISVM en Musk1...\")\n",
        "misvm_musk1 = evaluate_misvm(\n",
        "    musk1_bags_train, musk1_y_train,\n",
        "    musk1_bags_test, musk1_y_test,\n",
        "    kernel='rbf', C=10.0, max_iters=50\n",
        ")\n",
        "print(f\"Musk1 -> Accuracy: {misvm_musk1[0]:.4f}, F1: {misvm_musk1[1]:.4f}\\n\")\n",
        "\n",
        "print(\"(2) MISVM en Elephant...\")\n",
        "misvm_elephant = evaluate_misvm(\n",
        "    elephant_bags_train, elephant_y_train,\n",
        "    elephant_bags_test, elephant_y_test,\n",
        "    kernel='rbf', C=10.0, max_iters=50\n",
        ")\n",
        "print(f\"Elephant -> Accuracy: {misvm_elephant[0]:.4f}, F1: {misvm_elephant[1]:.4f}\\n\")\n",
        "\n",
        "print(\"(3) MISVM en Breast Cancer...\")\n",
        "misvm_breast_cancer = evaluate_misvm(\n",
        "    breast_cancer_bags_train, breast_cancer_y_train,\n",
        "    breast_cancer_bags_test, breast_cancer_y_test,\n",
        "    kernel='rbf', C=10.0, max_iters=50\n",
        ")\n",
        "print(f\"Breast Cancer -> Accuracy: {misvm_breast_cancer[0]:.4f}, F1: {misvm_breast_cancer[1]:.4f}\\n\")"
      ]
    },
    {
      "cell_type": "markdown",
      "metadata": {
        "id": "matrices-confusion"
      },
      "source": [
        "## 5. Visualización de matrices de confusión (MISVM)\n",
        "A continuación, se grafican las matrices de confusión de **MISVM** para cada dataset."
      ]
    },
    {
      "cell_type": "code",
      "metadata": {
        "id": "matrices",
        "outputId": "7d7d691e-6579-4553-9336-e5f43a520aa6",
        "colab": {
          "base_uri": "https://localhost:8080/",
          "height": 1000
        }
      },
      "execution_count": 5,
      "outputs": [
        {
          "output_type": "stream",
          "name": "stdout",
          "text": [
            "\n",
            "=== Matrices de confusión para MISVM ===\n"
          ]
        },
        {
          "output_type": "display_data",
          "data": {
            "text/plain": [
              "<Figure size 400x400 with 2 Axes>"
            ],
            "image/png": "[encoded data removed]"
          },
          "metadata": {}
        },
        {
          "output_type": "display_data",
          "data": {
            "text/plain": [
              "<Figure size 400x400 with 2 Axes>"
            ],
            "image/png": "[encoded data removed]"
          },
          "metadata": {}
        },
        {
          "output_type": "display_data",
          "data": {
            "text/plain": [
              "<Figure size 400x400 with 2 Axes>"
            ],
            "image/png": "[encoded data removed]"
          },
          "metadata": {}
        }
      ],
      "source": [
        "def plot_confusion_matrix(cm, title):\n",
        "    plt.figure(figsize=(4, 4))\n",
        "    sns.heatmap(cm, annot=True, fmt='d', cmap='Blues')\n",
        "    plt.title(title)\n",
        "    plt.ylabel('True label')\n",
        "    plt.xlabel('Predicted label')\n",
        "    plt.show()\n",
        "\n",
        "print(\"\\n=== Matrices de confusión para MISVM ===\")\n",
        "plot_confusion_matrix(misvm_musk1[2], 'Musk1 - MISVM')\n",
        "plot_confusion_matrix(misvm_elephant[2], 'Elephant - MISVM')\n",
        "plot_confusion_matrix(misvm_breast_cancer[2], 'Breast Cancer - MISVM')"
      ]
    },
    {
      "cell_type": "markdown",
      "metadata": {
        "id": "comparacion"
      },
      "source": [
        "## 6. Comparación gráfica de la **Accuracy**\n",
        "Se crea una gráfica de barras para comparar la precisión de **MISVM** y **MILES** en cada dataset."
      ]
    },
    {
      "cell_type": "code",
      "metadata": {
        "id": "bar-plot",
        "outputId": "0bcc408b-6c2f-4156-ac69-91bc178b0acd",
        "colab": {
          "base_uri": "https://localhost:8080/",
          "height": 468
        }
      },
      "execution_count": 6,
      "outputs": [
        {
          "output_type": "display_data",
          "data": {
            "text/plain": [
              "<Figure size 800x500 with 1 Axes>"
            ],
            "image/png": "[encoded data removed]"
          },
          "metadata": {}
        }
      ],
      "source": [
        "# Vamos a reutilizar los resultados guardados:\n",
        "# misvm_musk1, misvm_elephant, misvm_breast_cancer\n",
        "# miles_musk1, miles_elephant, miles_breast_cancer\n",
        "\n",
        "def plot_comparison(datasets, misvm_metrics, miles_metrics, metric_name='Accuracy'):\n",
        "    \"\"\"\n",
        "    Crea un diagrama de barras comparando la métrica dada (por defecto, Accuracy)\n",
        "    para MISVM y MILES en cada dataset.\n",
        "    \"\"\"\n",
        "    # Para MISVM y MILES, en la posición [0] tenemos Accuracy\n",
        "    misvm_values = [m[0] for m in misvm_metrics]\n",
        "    miles_values = [m[0] for m in miles_metrics]\n",
        "\n",
        "    x = np.arange(len(datasets))\n",
        "    width = 0.35\n",
        "\n",
        "    fig, ax = plt.subplots(figsize=(8, 5))\n",
        "    ax.bar(x - width/2, misvm_values, width, label='MISVM')\n",
        "    ax.bar(x + width/2, miles_values, width, label='MILES')\n",
        "\n",
        "    ax.set_ylabel(metric_name)\n",
        "    ax.set_title(f'{metric_name} por algoritmo y dataset')\n",
        "    ax.set_xticks(x)\n",
        "    ax.set_xticklabels(datasets)\n",
        "    ax.set_ylim([0, 1])\n",
        "    ax.legend()\n",
        "    plt.show()\n",
        "\n",
        "datasets_names = ['Musk1', 'Elephant', 'BreastCancer']\n",
        "misvm_results = [misvm_musk1, misvm_elephant, misvm_breast_cancer]\n",
        "miles_results = [miles_musk1, miles_elephant, miles_breast_cancer]\n",
        "\n",
        "plot_comparison(datasets_names, misvm_results, miles_results, 'Accuracy')"
      ]
    },
    {
      "cell_type": "markdown",
      "metadata": {
        "id": "conclusiones"
      },
      "source": [
        "## 7. Conclusiones\n",
        "- Se han comparado dos métodos de clasificación multi-instancia: **MISVM** y **MILES**.\n",
        "- Se han utilizado tres conjuntos de datos de MIL: **Musk1**, **Elephant** y **Breast Cancer**.\n",
        "- Los resultados varían según la naturaleza de cada dataset. Algunas observaciones:\n",
        "  - En algunos casos, MILES (que mapea instancias a un espacio prototipo) puede superar a MISVM.\n",
        "  - En otros, la estrategia directa de MISVM funciona igual o mejor.\n",
        "- Factores como la imprecisión en los datos, número de instancias por bolsa, y la complejidad de las características influyen en el rendimiento.\n",
        "- Es posible afinar los hiperparámetros (kernel, C, etc.) o intentar otros esquemas de validación para mejorar los resultados.\n",
        "\n",
        "En conclusión, ambos métodos son viables para resolver problemas de clasificación multi-instancia; la elección puede depender del dominio, la disponibilidad de datos y los recursos de cómputo."
      ]
    }
  ]
}