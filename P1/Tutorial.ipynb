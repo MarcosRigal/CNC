{
  "cells": [
    {
      "cell_type": "markdown",
      "metadata": {},
      "source": [
        "# Tutorial\n",
        "\n",
        "Scikit-multilearn es una biblioteca con licencia BSD para clasificación multietiqueta construida sobre el ecosistema de scikit-learn."
      ]
    },
    {
      "cell_type": "markdown",
      "metadata": {},
      "source": [
        "## Instalación\n",
        "\n",
        "Para instalar scikit-multilearn, ejecute el siguiente comando:"
      ]
    },
    {
      "cell_type": "code",
      "execution_count": null,
      "metadata": {
        "colab": {},
        "colab_type": "code",
        "id": "install"
      },
      "outputs": [],
      "source": [
        "!pip install scikit-multilearn arff"
      ]
    },
    {
      "cell_type": "markdown",
      "metadata": {},
      "source": [
        "## Cargando el conjunto de datos\n",
        "\n",
        "En este tutorial, utilizaremos el conjunto de datos 'emotions'."
      ]
    },
    {
      "cell_type": "code",
      "execution_count": null,
      "metadata": {
        "id": "load_dataset"
      },
      "outputs": [],
      "source": [
        "from skmultilearn.dataset import load_dataset\n",
        "\n",
        "X_train, y_train, feature_names, label_names = load_dataset('emotions', 'train')\n",
        "X_test, y_test, _, _ = load_dataset('emotions', 'test')"
      ]
    },
    {
      "cell_type": "markdown",
      "metadata": {},
      "source": [
        "## Explorando las características y etiquetas\n",
        "\n",
        "Veamos las primeras características y etiquetas del conjunto de datos."
      ]
    },
    {
      "cell_type": "code",
      "execution_count": null,
      "metadata": {
        "id": "explore_features_labels"
      },
      "outputs": [],
      "source": [
        "print(\"Primeras 10 características:\")\n",
        "print(feature_names[:10])\n",
        "\n",
        "print(\"\\nEtiquetas:\")\n",
        "print(label_names)"
      ]
    },
    {
      "cell_type": "markdown",
      "metadata": {},
      "source": [
        "## Entrenando un clasificador multietiqueta\n",
        "\n",
        "Utilizaremos el método Binary Relevance con un clasificador SVM."
      ]
    },
    {
      "cell_type": "code",
      "execution_count": null,
      "metadata": {
        "id": "train_classifier"
      },
      "outputs": [],
      "source": [
        "from skmultilearn.problem_transform import BinaryRelevance\n",
        "from sklearn.svm import SVC\n",
        "\n",
        "clf = BinaryRelevance(classifier=SVC(), require_dense=[False, True])\n",
        "clf.fit(X_train, y_train)"
      ]
    },
    {
      "cell_type": "markdown",
      "metadata": {},
      "source": [
        "## Realizando predicciones\n",
        "\n",
        "Utilizaremos el clasificador entrenado para predecir las etiquetas del conjunto de prueba."
      ]
    },
    {
      "cell_type": "code",
      "execution_count": null,
      "metadata": {
        "id": "make_predictions"
      },
      "outputs": [],
      "source": [
        "predictions = clf.predict(X_test)\n",
        "print(predictions)"
      ]
    },
    {
      "cell_type": "markdown",
      "metadata": {},
      "source": [
        "## Evaluando el modelo\n",
        "\n",
        "Mediremos la calidad del modelo utilizando métricas como Hamming Loss y Accuracy."
      ]
    },
    {
      "cell_type": "code",
      "execution_count": null,
      "metadata": {
        "id": "evaluate_model"
      },
      "outputs": [],
      "source": [
        "from sklearn.metrics import hamming_loss, accuracy_score\n",
        "\n",
        "h_loss = hamming_loss(y_test, predictions)\n",
        "accuracy = accuracy_score(y_test, predictions)\n",
        "\n",
        "print(f\"Hamming Loss: {h_loss}\")\n",
        "print(f\"Accuracy: {accuracy}\")"
      ]
    }
  ],
  "metadata": {
    "colab": {
      "description": "Este cuaderno muestra cómo utilizar la biblioteca scikit-multilearn para clasificación multietiqueta utilizando el conjunto de datos 'emotions'.",
      "name": "Tutorial de scikit-multilearn"
    },
    "kernelspec": {
      "display_name": "Python 3",
      "name": "python3"
    },
    "language_info": {
      "name": "python",
      "version": "3.8"
    }
  },
  "nbformat": 4,
  "nbformat_minor": 0
}
