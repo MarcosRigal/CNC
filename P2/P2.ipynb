{
  "cells": [
    {
      "cell_type": "code",
      "source": [
        "!git clone https://github.com/garydoranjr/misvm.git\n",
        "!python misvm/setup.py install\n",
        "!pip install numpy scikit-learn scipy tensorflow==2.12.0 mil"
      ],
      "metadata": {
        "collapsed": true,
        "id": "qVz3K6BQYOoP",
        "outputId": "0e112155-92de-4f40-faf6-a9650a2abe2a",
        "colab": {
          "base_uri": "https://localhost:8080/"
        }
      },
      "execution_count": 1,
      "outputs": [
        {
          "output_type": "stream",
          "name": "stdout",
          "text": [
            "Cloning into 'misvm'...\n",
            "remote: Enumerating objects: 198, done.\u001b[K\n",
            "remote: Total 198 (delta 0), reused 0 (delta 0), pack-reused 198 (from 1)\u001b[K\n",
            "Receiving objects: 100% (198/198), 180.87 KiB | 954.00 KiB/s, done.\n",
            "Resolving deltas: 100% (109/109), done.\n",
            "running install\n",
            "/usr/local/lib/python3.11/dist-packages/setuptools/_distutils/cmd.py:66: SetuptoolsDeprecationWarning: setup.py install is deprecated.\n",
            "!!\n",
            "\n",
            "        ********************************************************************************\n",
            "        Please avoid running ``setup.py`` directly.\n",
            "        Instead, use pypa/build, pypa/installer or other\n",
            "        standards-based tools.\n",
            "\n",
            "        See https://blog.ganssle.io/articles/2021/10/setup-py-deprecated.html for details.\n",
            "        ********************************************************************************\n",
            "\n",
            "!!\n",
            "  self.initialize_options()\n",
            "/usr/local/lib/python3.11/dist-packages/setuptools/_distutils/cmd.py:66: EasyInstallDeprecationWarning: easy_install command is deprecated.\n",
            "!!\n",
            "\n",
            "        ********************************************************************************\n",
            "        Please avoid running ``setup.py`` and ``easy_install``.\n",
            "        Instead, use pypa/build, pypa/installer or other\n",
            "        standards-based tools.\n",
            "\n",
            "        See https://github.com/pypa/setuptools/issues/917 for details.\n",
            "        ********************************************************************************\n",
            "\n",
            "!!\n",
            "  self.initialize_options()\n",
            "running bdist_egg\n",
            "running egg_info\n",
            "creating misvm.egg-info\n",
            "writing misvm.egg-info/PKG-INFO\n",
            "/usr/local/lib/python3.11/dist-packages/setuptools/_core_metadata.py:161: SetuptoolsDeprecationWarning: Invalid config.\n",
            "!!\n",
            "\n",
            "        ********************************************************************************\n",
            "        newlines are not allowed in `summary` and will break in the future\n",
            "        ********************************************************************************\n",
            "\n",
            "!!\n",
            "  write_field('Summary', single_line(summary))\n",
            "writing dependency_links to misvm.egg-info/dependency_links.txt\n",
            "writing requirements to misvm.egg-info/requires.txt\n",
            "writing top-level names to misvm.egg-info/top_level.txt\n",
            "writing manifest file 'misvm.egg-info/SOURCES.txt'\n",
            "reading manifest file 'misvm.egg-info/SOURCES.txt'\n",
            "writing manifest file 'misvm.egg-info/SOURCES.txt'\n",
            "installing library code to build/bdist.linux-x86_64/egg\n",
            "running install_lib\n",
            "running build_py\n",
            "creating build/lib/misvm\n",
            "copying misvm/setup.py -> build/lib/misvm\n",
            "creating build/bdist.linux-x86_64/egg\n",
            "creating build/bdist.linux-x86_64/egg/misvm\n",
            "copying build/lib/misvm/setup.py -> build/bdist.linux-x86_64/egg/misvm\n",
            "byte-compiling build/bdist.linux-x86_64/egg/misvm/setup.py to setup.cpython-311.pyc\n",
            "creating build/bdist.linux-x86_64/egg/EGG-INFO\n",
            "copying misvm.egg-info/PKG-INFO -> build/bdist.linux-x86_64/egg/EGG-INFO\n",
            "copying misvm.egg-info/SOURCES.txt -> build/bdist.linux-x86_64/egg/EGG-INFO\n",
            "copying misvm.egg-info/dependency_links.txt -> build/bdist.linux-x86_64/egg/EGG-INFO\n",
            "copying misvm.egg-info/requires.txt -> build/bdist.linux-x86_64/egg/EGG-INFO\n",
            "copying misvm.egg-info/top_level.txt -> build/bdist.linux-x86_64/egg/EGG-INFO\n",
            "zip_safe flag not set; analyzing archive contents...\n",
            "creating dist\n",
            "creating 'dist/misvm-1.0-py3.11.egg' and adding 'build/bdist.linux-x86_64/egg' to it\n",
            "removing 'build/bdist.linux-x86_64/egg' (and everything under it)\n",
            "Processing misvm-1.0-py3.11.egg\n",
            "Removing /usr/local/lib/python3.11/dist-packages/misvm-1.0-py3.11.egg\n",
            "Copying misvm-1.0-py3.11.egg to /usr/local/lib/python3.11/dist-packages\n",
            "Adding misvm 1.0 to easy-install.pth file\n",
            "\n",
            "Installed /usr/local/lib/python3.11/dist-packages/misvm-1.0-py3.11.egg\n",
            "Processing dependencies for misvm==1.0\n",
            "Searching for cvxopt==1.3.2\n",
            "Best match: cvxopt 1.3.2\n",
            "Adding cvxopt 1.3.2 to easy-install.pth file\n",
            "\n",
            "Using /usr/local/lib/python3.11/dist-packages\n",
            "Searching for scipy==1.13.1\n",
            "Best match: scipy 1.13.1\n",
            "Adding scipy 1.13.1 to easy-install.pth file\n",
            "\n",
            "Using /usr/local/lib/python3.11/dist-packages\n",
            "Searching for numpy==1.23.5\n",
            "Best match: numpy 1.23.5\n",
            "Adding numpy 1.23.5 to easy-install.pth file\n",
            "Installing f2py script to /usr/local/bin\n",
            "Installing f2py3 script to /usr/local/bin\n",
            "Installing f2py3.11 script to /usr/local/bin\n",
            "\n",
            "Using /usr/local/lib/python3.11/dist-packages\n",
            "Finished processing dependencies for misvm==1.0\n",
            "\u001b[33mDEPRECATION: Loading egg at /usr/local/lib/python3.11/dist-packages/misvm-1.0-py3.11.egg is deprecated. pip 24.3 will enforce this behaviour change. A possible replacement is to use pip for package installation. Discussion can be found at https://github.com/pypa/pip/issues/12330\u001b[0m\u001b[33m\n",
            "\u001b[0mRequirement already satisfied: numpy in /usr/local/lib/python3.11/dist-packages (1.23.5)\n",
            "Requirement already satisfied: scikit-learn in /usr/local/lib/python3.11/dist-packages (1.6.1)\n",
            "Requirement already satisfied: scipy in /usr/local/lib/python3.11/dist-packages (1.13.1)\n",
            "Requirement already satisfied: tensorflow==2.12.0 in /usr/local/lib/python3.11/dist-packages (2.12.0)\n",
            "Requirement already satisfied: mil in /usr/local/lib/python3.11/dist-packages (1.0.5)\n",
            "Requirement already satisfied: absl-py>=1.0.0 in /usr/local/lib/python3.11/dist-packages (from tensorflow==2.12.0) (1.4.0)\n",
            "Requirement already satisfied: astunparse>=1.6.0 in /usr/local/lib/python3.11/dist-packages (from tensorflow==2.12.0) (1.6.3)\n",
            "Requirement already satisfied: flatbuffers>=2.0 in /usr/local/lib/python3.11/dist-packages (from tensorflow==2.12.0) (25.2.10)\n",
            "Requirement already satisfied: gast<=0.4.0,>=0.2.1 in /usr/local/lib/python3.11/dist-packages (from tensorflow==2.12.0) (0.4.0)\n",
            "Requirement already satisfied: google-pasta>=0.1.1 in /usr/local/lib/python3.11/dist-packages (from tensorflow==2.12.0) (0.2.0)\n",
            "Requirement already satisfied: grpcio<2.0,>=1.24.3 in /usr/local/lib/python3.11/dist-packages (from tensorflow==2.12.0) (1.70.0)\n",
            "Requirement already satisfied: h5py>=2.9.0 in /usr/local/lib/python3.11/dist-packages (from tensorflow==2.12.0) (3.12.1)\n",
            "Requirement already satisfied: jax>=0.3.15 in /usr/local/lib/python3.11/dist-packages (from tensorflow==2.12.0) (0.4.30)\n",
            "Requirement already satisfied: keras<2.13,>=2.12.0 in /usr/local/lib/python3.11/dist-packages (from tensorflow==2.12.0) (2.12.0)\n",
            "Requirement already satisfied: libclang>=13.0.0 in /usr/local/lib/python3.11/dist-packages (from tensorflow==2.12.0) (18.1.1)\n",
            "Requirement already satisfied: opt-einsum>=2.3.2 in /usr/local/lib/python3.11/dist-packages (from tensorflow==2.12.0) (3.4.0)\n",
            "Requirement already satisfied: packaging in /usr/local/lib/python3.11/dist-packages (from tensorflow==2.12.0) (24.2)\n",
            "Requirement already satisfied: protobuf!=4.21.0,!=4.21.1,!=4.21.2,!=4.21.3,!=4.21.4,!=4.21.5,<5.0.0dev,>=3.20.3 in /usr/local/lib/python3.11/dist-packages (from tensorflow==2.12.0) (4.25.6)\n",
            "Requirement already satisfied: setuptools in /usr/local/lib/python3.11/dist-packages (from tensorflow==2.12.0) (75.1.0)\n",
            "Requirement already satisfied: six>=1.12.0 in /usr/local/lib/python3.11/dist-packages (from tensorflow==2.12.0) (1.17.0)\n",
            "Requirement already satisfied: tensorboard<2.13,>=2.12 in /usr/local/lib/python3.11/dist-packages (from tensorflow==2.12.0) (2.12.3)\n",
            "Requirement already satisfied: tensorflow-estimator<2.13,>=2.12.0 in /usr/local/lib/python3.11/dist-packages (from tensorflow==2.12.0) (2.12.0)\n",
            "Requirement already satisfied: termcolor>=1.1.0 in /usr/local/lib/python3.11/dist-packages (from tensorflow==2.12.0) (2.5.0)\n",
            "Requirement already satisfied: typing-extensions>=3.6.6 in /usr/local/lib/python3.11/dist-packages (from tensorflow==2.12.0) (4.12.2)\n",
            "Requirement already satisfied: wrapt<1.15,>=1.11.0 in /usr/local/lib/python3.11/dist-packages (from tensorflow==2.12.0) (1.14.1)\n",
            "Requirement already satisfied: tensorflow-io-gcs-filesystem>=0.23.1 in /usr/local/lib/python3.11/dist-packages (from tensorflow==2.12.0) (0.37.1)\n",
            "Requirement already satisfied: joblib>=1.2.0 in /usr/local/lib/python3.11/dist-packages (from scikit-learn) (1.4.2)\n",
            "Requirement already satisfied: threadpoolctl>=3.1.0 in /usr/local/lib/python3.11/dist-packages (from scikit-learn) (3.5.0)\n",
            "Requirement already satisfied: wheel<1.0,>=0.23.0 in /usr/local/lib/python3.11/dist-packages (from astunparse>=1.6.0->tensorflow==2.12.0) (0.45.1)\n",
            "Requirement already satisfied: jaxlib<=0.4.30,>=0.4.27 in /usr/local/lib/python3.11/dist-packages (from jax>=0.3.15->tensorflow==2.12.0) (0.4.30)\n",
            "Requirement already satisfied: ml-dtypes>=0.2.0 in /usr/local/lib/python3.11/dist-packages (from jax>=0.3.15->tensorflow==2.12.0) (0.4.1)\n",
            "Requirement already satisfied: google-auth<3,>=1.6.3 in /usr/local/lib/python3.11/dist-packages (from tensorboard<2.13,>=2.12->tensorflow==2.12.0) (2.27.0)\n",
            "Requirement already satisfied: google-auth-oauthlib<1.1,>=0.5 in /usr/local/lib/python3.11/dist-packages (from tensorboard<2.13,>=2.12->tensorflow==2.12.0) (1.0.0)\n",
            "Requirement already satisfied: markdown>=2.6.8 in /usr/local/lib/python3.11/dist-packages (from tensorboard<2.13,>=2.12->tensorflow==2.12.0) (3.7)\n",
            "Requirement already satisfied: requests<3,>=2.21.0 in /usr/local/lib/python3.11/dist-packages (from tensorboard<2.13,>=2.12->tensorflow==2.12.0) (2.32.3)\n",
            "Requirement already satisfied: tensorboard-data-server<0.8.0,>=0.7.0 in /usr/local/lib/python3.11/dist-packages (from tensorboard<2.13,>=2.12->tensorflow==2.12.0) (0.7.2)\n",
            "Requirement already satisfied: werkzeug>=1.0.1 in /usr/local/lib/python3.11/dist-packages (from tensorboard<2.13,>=2.12->tensorflow==2.12.0) (3.1.3)\n",
            "Requirement already satisfied: cachetools<6.0,>=2.0.0 in /usr/local/lib/python3.11/dist-packages (from google-auth<3,>=1.6.3->tensorboard<2.13,>=2.12->tensorflow==2.12.0) (5.5.2)\n",
            "Requirement already satisfied: pyasn1-modules>=0.2.1 in /usr/local/lib/python3.11/dist-packages (from google-auth<3,>=1.6.3->tensorboard<2.13,>=2.12->tensorflow==2.12.0) (0.4.1)\n",
            "Requirement already satisfied: rsa<5,>=3.1.4 in /usr/local/lib/python3.11/dist-packages (from google-auth<3,>=1.6.3->tensorboard<2.13,>=2.12->tensorflow==2.12.0) (4.9)\n",
            "Requirement already satisfied: requests-oauthlib>=0.7.0 in /usr/local/lib/python3.11/dist-packages (from google-auth-oauthlib<1.1,>=0.5->tensorboard<2.13,>=2.12->tensorflow==2.12.0) (2.0.0)\n",
            "Requirement already satisfied: charset-normalizer<4,>=2 in /usr/local/lib/python3.11/dist-packages (from requests<3,>=2.21.0->tensorboard<2.13,>=2.12->tensorflow==2.12.0) (3.4.1)\n",
            "Requirement already satisfied: idna<4,>=2.5 in /usr/local/lib/python3.11/dist-packages (from requests<3,>=2.21.0->tensorboard<2.13,>=2.12->tensorflow==2.12.0) (3.10)\n",
            "Requirement already satisfied: urllib3<3,>=1.21.1 in /usr/local/lib/python3.11/dist-packages (from requests<3,>=2.21.0->tensorboard<2.13,>=2.12->tensorflow==2.12.0) (2.3.0)\n",
            "Requirement already satisfied: certifi>=2017.4.17 in /usr/local/lib/python3.11/dist-packages (from requests<3,>=2.21.0->tensorboard<2.13,>=2.12->tensorflow==2.12.0) (2025.1.31)\n",
            "Requirement already satisfied: MarkupSafe>=2.1.1 in /usr/local/lib/python3.11/dist-packages (from werkzeug>=1.0.1->tensorboard<2.13,>=2.12->tensorflow==2.12.0) (3.0.2)\n",
            "Requirement already satisfied: pyasn1<0.7.0,>=0.4.6 in /usr/local/lib/python3.11/dist-packages (from pyasn1-modules>=0.2.1->google-auth<3,>=1.6.3->tensorboard<2.13,>=2.12->tensorflow==2.12.0) (0.6.1)\n",
            "Requirement already satisfied: oauthlib>=3.0.0 in /usr/local/lib/python3.11/dist-packages (from requests-oauthlib>=0.7.0->google-auth-oauthlib<1.1,>=0.5->tensorboard<2.13,>=2.12->tensorflow==2.12.0) (3.2.2)\n"
          ]
        }
      ]
    },
    {
      "cell_type": "code",
      "source": [
        "# importing all the datasets modules\n",
        "from mil.data.datasets import loader\n",
        "\n",
        "# load the datasets\n",
        "(corel_dogs_bags_train, corel_dogs_y_train), (corel_dogs_bags_test, corel_dogs_y_test) = loader.load_data('/usr/local/lib/python3.11/dist-packages/mil/data/datasets/csv/corel_dogs.csv')\n",
        "(musk1_bags_train, musk1_y_train), (musk1_bags_test, musk1_y_test) = loader.load_data('/usr/local/lib/python3.11/dist-packages/mil/data/datasets/csv/musk1.csv')\n",
        "(elephant_bags_train, elephant_y_train), (elephant_bags_test, elephant_y_test) = loader.load_data('/usr/local/lib/python3.11/dist-packages/mil/data/datasets/csv/elephant.csv')"
      ],
      "metadata": {
        "collapsed": true,
        "id": "zJnOAC69Yxhk"
      },
      "execution_count": 2,
      "outputs": []
    },
    {
      "cell_type": "code",
      "source": [
        "# importing bag_representation\n",
        "from mil.bag_representation import MILESMapping\n",
        "# importing validation strategy\n",
        "from mil.validators import LeaveOneOut\n",
        "# importing final model, which in this case is the SVC classifier from sklearn\n",
        "from mil.models import SVC\n",
        "# importing trainer\n",
        "from mil.trainer import Trainer\n",
        "# importing preprocessing\n",
        "from mil.preprocessing import StandarizerBagsList\n",
        "# importing metrics, which in this case are from tf keras metrics\n",
        "from mil.metrics import AUC\n",
        "\n",
        "# instantiate trainer\n",
        "trainer = Trainer()\n",
        "\n",
        "# preparing trainer\n",
        "metrics = ['acc', AUC]\n",
        "model = SVC(kernel='linear', C=1, class_weight='balanced')\n",
        "pipeline = [('scale', StandarizerBagsList()), ('disc_mapping', MILESMapping())]\n",
        "trainer.prepare(model, preprocess_pipeline=pipeline ,metrics=metrics)\n",
        "\n",
        "# fitting trainer\n",
        "valid = LeaveOneOut()\n",
        "history = trainer.fit(musk1_bags_train, musk1_y_train, sample_weights='balanced', validation_strategy=valid, verbose=1)\n",
        "\n",
        "# printing validation results for each fold\n",
        "print(history['metrics_val'])\n",
        "\n",
        "# predicting metrics for the test set\n",
        "trainer.predict_metrics(musk1_bags_test, musk1_y_test)"
      ],
      "metadata": {
        "id": "SCzSrvL2cTVO",
        "outputId": "55ca506c-733a-45c5-cd04-16e2a9ad6832",
        "colab": {
          "base_uri": "https://localhost:8080/"
        }
      },
      "execution_count": 3,
      "outputs": [
        {
          "output_type": "stream",
          "name": "stdout",
          "text": [
            "73/73 [==============================] - 18s 247ms/step - train_accuracy: 1.0000 - train_auc: 1.0000 - val_accuracy: 0.0000e+00 - val_auc: 0.0000e+00\n",
            "[{'accuracy': 1.0, 'auc': 0.0}, {'accuracy': 1.0, 'auc': 0.0}, {'accuracy': 1.0, 'auc': 0.0}, {'accuracy': 0.0, 'auc': 0.0}, {'accuracy': 1.0, 'auc': 0.0}, {'accuracy': 1.0, 'auc': 0.0}, {'accuracy': 1.0, 'auc': 0.0}, {'accuracy': 1.0, 'auc': 0.0}, {'accuracy': 1.0, 'auc': 0.0}, {'accuracy': 1.0, 'auc': 0.0}, {'accuracy': 1.0, 'auc': 0.0}, {'accuracy': 0.0, 'auc': 0.0}, {'accuracy': 1.0, 'auc': 0.0}, {'accuracy': 1.0, 'auc': 0.0}, {'accuracy': 0.0, 'auc': 0.0}, {'accuracy': 1.0, 'auc': 0.0}, {'accuracy': 1.0, 'auc': 0.0}, {'accuracy': 1.0, 'auc': 0.0}, {'accuracy': 1.0, 'auc': 0.0}, {'accuracy': 1.0, 'auc': 0.0}, {'accuracy': 1.0, 'auc': 0.0}, {'accuracy': 0.0, 'auc': 0.0}, {'accuracy': 1.0, 'auc': 0.0}, {'accuracy': 1.0, 'auc': 0.0}, {'accuracy': 1.0, 'auc': 0.0}, {'accuracy': 1.0, 'auc': 0.0}, {'accuracy': 0.0, 'auc': 0.0}, {'accuracy': 1.0, 'auc': 0.0}, {'accuracy': 1.0, 'auc': 0.0}, {'accuracy': 1.0, 'auc': 0.0}, {'accuracy': 0.0, 'auc': 0.0}, {'accuracy': 1.0, 'auc': 0.0}, {'accuracy': 1.0, 'auc': 0.0}, {'accuracy': 0.0, 'auc': 0.0}, {'accuracy': 0.0, 'auc': 0.0}, {'accuracy': 1.0, 'auc': 0.0}, {'accuracy': 1.0, 'auc': 0.0}, {'accuracy': 1.0, 'auc': 0.0}, {'accuracy': 1.0, 'auc': 0.0}, {'accuracy': 1.0, 'auc': 0.0}, {'accuracy': 1.0, 'auc': 0.0}, {'accuracy': 1.0, 'auc': 0.0}, {'accuracy': 1.0, 'auc': 0.0}, {'accuracy': 0.0, 'auc': 0.0}, {'accuracy': 1.0, 'auc': 0.0}, {'accuracy': 1.0, 'auc': 0.0}, {'accuracy': 1.0, 'auc': 0.0}, {'accuracy': 0.0, 'auc': 0.0}, {'accuracy': 1.0, 'auc': 0.0}, {'accuracy': 1.0, 'auc': 0.0}, {'accuracy': 1.0, 'auc': 0.0}, {'accuracy': 1.0, 'auc': 0.0}, {'accuracy': 1.0, 'auc': 0.0}, {'accuracy': 0.0, 'auc': 0.0}, {'accuracy': 1.0, 'auc': 0.0}, {'accuracy': 1.0, 'auc': 0.0}, {'accuracy': 1.0, 'auc': 0.0}, {'accuracy': 1.0, 'auc': 0.0}, {'accuracy': 1.0, 'auc': 0.0}, {'accuracy': 0.0, 'auc': 0.0}, {'accuracy': 1.0, 'auc': 0.0}, {'accuracy': 1.0, 'auc': 0.0}, {'accuracy': 0.0, 'auc': 0.0}, {'accuracy': 1.0, 'auc': 0.0}, {'accuracy': 0.0, 'auc': 0.0}, {'accuracy': 0.0, 'auc': 0.0}, {'accuracy': 1.0, 'auc': 0.0}, {'accuracy': 1.0, 'auc': 0.0}, {'accuracy': 1.0, 'auc': 0.0}, {'accuracy': 1.0, 'auc': 0.0}, {'accuracy': 1.0, 'auc': 0.0}, {'accuracy': 1.0, 'auc': 0.0}, {'accuracy': 0.0, 'auc': 0.0}]\n"
          ]
        },
        {
          "output_type": "execute_result",
          "data": {
            "text/plain": [
              "{'accuracy': 0.68421054, 'auc': 0.72727275}"
            ]
          },
          "metadata": {},
          "execution_count": 3
        }
      ]
    },
    {
      "cell_type": "code",
      "source": [
        "!rm -rf misvm"
      ],
      "metadata": {
        "id": "XRXJJWIuYXhG"
      },
      "execution_count": 4,
      "outputs": []
    }
  ],
  "metadata": {
    "colab": {
      "provenance": []
    },
    "kernelspec": {
      "display_name": ".venv",
      "language": "python",
      "name": "python3"
    },
    "language_info": {
      "codemirror_mode": {
        "name": "ipython",
        "version": 3
      },
      "file_extension": ".py",
      "mimetype": "text/x-python",
      "name": "python",
      "nbconvert_exporter": "python",
      "pygments_lexer": "ipython3",
      "version": "3.10.12"
    }
  },
  "nbformat": 4,
  "nbformat_minor": 0
}