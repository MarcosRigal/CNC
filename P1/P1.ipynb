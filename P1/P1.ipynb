{
    "nbformat": 4,
    "nbformat_minor": 0,
    "metadata": {
      "colab": {
        "name": "Tutorial de scikit-multilearn",
        "description": "Este cuaderno muestra cómo utilizar la biblioteca scikit-multilearn para clasificación multietiqueta utilizando el conjunto de datos 'emotions'."
      },
      "kernelspec": {
        "name": "python3",
        "display_name": "Python 3"
      },
      "language_info": {
        "name": "python",
        "version": "3.8"
      }
    },
    "cells": [
      {
        "cell_type": "markdown",
        "metadata": {},
        "source": "# Tutorial de scikit-multilearn\n\nScikit-multilearn es una biblioteca con licencia BSD para clasificación multietiqueta construida sobre el ecosistema de scikit-learn."
      },
      {
        "cell_type": "markdown",
        "metadata": {},
        "source": "## Instalación\n\nPara instalar scikit-multilearn, ejecute el siguiente comando:"
      },
      {
        "cell_type": "code",
        "metadata": {
          "colab": {
            "base_uri": "https://localhost:8080/",
            "height": 0
          },
          "id": "install",
          "colab_type": "code",
          "colab": {}
        },
        "source": "!pip install scikit-multilearn",
        "execution_count": null,
        "outputs": []
      },
      {
        "cell_type": "markdown",
        "metadata": {},
        "source": "## Cargando el conjunto de datos\n\nEn este tutorial, utilizaremos el conjunto de datos 'emotions'."
      },
      {
        "cell_type": "code",
        "metadata": {
          "id": "load_dataset"
        },
        "source": "from skmultilearn.dataset import load_dataset\n\nX_train, y_train, feature_names, label_names = load_dataset('emotions', 'train')\nX_test, y_test, _, _ = load_dataset('emotions', 'test')",
        "execution_count": null,
        "outputs": []
      },
      {
        "cell_type": "markdown",
        "metadata": {},
        "source": "## Explorando las características y etiquetas\n\nVeamos las primeras características y etiquetas del conjunto de datos."
      },
      {
        "cell_type": "code",
        "metadata": {
          "id": "explore_features_labels"
        },
        "source": "print(\"Primeras 10 características:\")\nprint(feature_names[:10])\n\nprint(\"\\nEtiquetas:\")\nprint(label_names)",
        "execution_count": null,
        "outputs": []
      },
      {
        "cell_type": "markdown",
        "metadata": {},
        "source": "## Entrenando un clasificador multietiqueta\n\nUtilizaremos el método Binary Relevance con un clasificador SVM."
      },
      {
        "cell_type": "code",
        "metadata": {
          "id": "train_classifier"
        },
        "source": "from skmultilearn.problem_transform import BinaryRelevance\nfrom sklearn.svm import SVC\n\nclf = BinaryRelevance(classifier=SVC(), require_dense=[False, True])\nclf.fit(X_train, y_train)",
        "execution_count": null,
        "outputs": []
      },
      {
        "cell_type": "markdown",
        "metadata": {},
        "source": "## Realizando predicciones\n\nUtilizaremos el clasificador entrenado para predecir las etiquetas del conjunto de prueba."
      },
      {
        "cell_type": "code",
        "metadata": {
          "id": "make_predictions"
        },
        "source": "predictions = clf.predict(X_test)\nprint(predictions)",
        "execution_count": null,
        "outputs": []
      },
      {
        "cell_type": "markdown",
        "metadata": {},
        "source": "## Evaluando el modelo\n\nMediremos la calidad del modelo utilizando métricas como Hamming Loss y Accuracy."
      },
      {
        "cell_type": "code",
        "metadata": {
          "id": "evaluate_model"
        },
        "source": "from sklearn.metrics import hamming_loss, accuracy_score\n\nh_loss = hamming_loss(y_test, predictions)\naccuracy = accuracy_score(y_test, predictions)\n\nprint(f\"Hamming Loss: {h_loss}\")\nprint(f\"Accuracy: {accuracy}\")",
        "execution_count": null,
        "outputs": []
      }
    ]
  }
  