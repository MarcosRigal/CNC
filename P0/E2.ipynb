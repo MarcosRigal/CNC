{
 "cells": [
  {
   "cell_type": "markdown",
   "metadata": {
    "id": "y0EDCxXEpdWW"
   },
   "source": [
    "# Ejercicio 2\n",
    "Contenido del dataset: Resumen: Datos experimentales utilizados para la clasificación binaria (ocupación de la habitación) de temperatura, humedad, luz y CO2. La ocupación real se obtuvo a partir de imágenes con marca de tiempo que se tomaron cada minuto.\n",
    "El ejercicio consiste obtener un modelo de clasificación para clasificar en si está ocupada (clase positiva) o no lo está, usando SVM y optimizando con  rejilla (GridSearchCV) los hiperparámetros C y kernel.\n",
    "El dataset está en formato de texto, pero se puede cargar como archivo csv, y contiene un conjunto de entrenamiento (datatraining.txt) dos conjuntos de test (datatest.txt y datatest2.txt) aunque vamos a usar solo el primero (datatest.txt). Contiene 6 atributos y la clase. Como el primero es la fecha y hora habría que eliminarlo. Los atributos son: fecha, temperatura, humedad, iluminación, CO2, ratio de humedad y etiqueta/clase\n",
    "*   URL: https://archive.ics.uci.edu/ml/datasets/Occupancy+Detection+#\n",
    "*   URL Dataset:https://archive.ics.uci.edu/ml/machine-learning-databases/00357/occupancy_data.zip\n",
    "\n",
    "**Tomando como base el ejemplo6 de los suministrados en clase (apartado de rejilla con SVC)** implementar un clasificador basado en el SVM No lineal (SVC)  que contenga los siguientes apartados:\n",
    "*   Uso de StandardScaler en el preprocesamiento para escalar los datos.\n",
    "*   Una vez escalados los datos, definir la rejilla con los siguientes parámetros: 'C':[0.01,0.1,1, 2], 'kernel': [\"linear\", \"poly\", \"rbf\", \"sigmoid\"]\n",
    "*   Entrenar el modelo y mostrar los mejores parámetros.\n",
    "*   Para los mejores parámetros obtener matriz de confusión en texto y gráfica. Así como el accuracy, precisión, recall y f1.\n",
    "*   Implementar un clasificador basado en un árbol de decisión, a partir de los datos ya preprocesados para el clasificador anterior, usando una rejilla con los siguientes parámetros: 'max_leaf_nodes': list(range(3, 30)), 'min_samples_split': [2, 3, 4, 5, 6] y obtenerPara los mejores parámetros obtener matriz de confusión en texto y gráfica. Así como el accuracy, precisión, recall y f1.\n",
    "*   Escribir al final una celda de texto resumiendo los pasos que se han dado y los resultados obtenidos.\n"
   ]
  },
  {
   "cell_type": "code",
   "execution_count": 22,
   "metadata": {
    "id": "Her7J1IFpaqR"
   },
   "outputs": [],
   "source": [
    "import pandas as pd"
   ]
  },
  {
   "cell_type": "code",
   "execution_count": 23,
   "metadata": {
    "colab": {
     "base_uri": "https://localhost:8080/"
    },
    "executionInfo": {
     "elapsed": 604,
     "status": "ok",
     "timestamp": 1671527872965,
     "user": {
      "displayName": "Ángel Carmona",
      "userId": "03357454738723575825"
     },
     "user_tz": -60
    },
    "id": "BhjHVyYCYmk2",
    "outputId": "93a9a7ae-b412-4175-ec54-efa140d84a6e"
   },
   "outputs": [
    {
     "name": "stderr",
     "output_type": "stream",
     "text": [
      "--2025-01-15 00:27:17--  https://archive.ics.uci.edu/ml/machine-learning-databases/00357/occupancy_data.zip\n",
      "Resolving archive.ics.uci.edu (archive.ics.uci.edu)... 128.195.10.252\n",
      "Connecting to archive.ics.uci.edu (archive.ics.uci.edu)|128.195.10.252|:443... connected.\n",
      "HTTP request sent, awaiting response... 200 OK\n",
      "Length: unspecified\n",
      "Saving to: ‘occupancy_data.zip’\n",
      "\n",
      "     0K .......... .......... .......... .......... .......... 84,4K\n",
      "    50K .......... .......... .......... .......... ..........  273K\n",
      "   100K .......... .......... .......... .......... ..........  278K\n",
      "   150K .......... .......... .......... .......... .......... 55,6M\n",
      "   200K .......... .......... .......... .......... ..........  272K\n",
      "   250K .......... .......... .......... .......... .......... 67,9M\n",
      "   300K .......... .......... .......                          50,7M=1,1s\n",
      "\n",
      "2025-01-15 00:27:20 (287 KB/s) - ‘occupancy_data.zip’ saved [335713]\n",
      "\n"
     ]
    },
    {
     "name": "stdout",
     "output_type": "stream",
     "text": [
      "Archive:  occupancy_data.zip\n",
      "  inflating: content/datatest.txt    \n",
      "  inflating: content/datatest2.txt   \n",
      "  inflating: content/datatraining.txt  \n"
     ]
    }
   ],
   "source": [
    "%%bash\n",
    "wget https://archive.ics.uci.edu/ml/machine-learning-databases/00357/occupancy_data.zip\n",
    "unzip occupancy_data.zip -d content"
   ]
  },
  {
   "cell_type": "code",
   "execution_count": 24,
   "metadata": {
    "id": "DyeUf_vLY7ra"
   },
   "outputs": [],
   "source": [
    "occupancy_train = pd.read_csv(\"content/datatraining.txt\")"
   ]
  },
  {
   "cell_type": "code",
   "execution_count": 25,
   "metadata": {
    "colab": {
     "base_uri": "https://localhost:8080/",
     "height": 206
    },
    "executionInfo": {
     "elapsed": 19,
     "status": "ok",
     "timestamp": 1671527872968,
     "user": {
      "displayName": "Ángel Carmona",
      "userId": "03357454738723575825"
     },
     "user_tz": -60
    },
    "id": "vV3o4IYnZFl1",
    "outputId": "539b6303-877a-4377-e7b1-bbd1ac40518c"
   },
   "outputs": [
    {
     "data": {
      "text/html": [
       "<div>\n",
       "<style scoped>\n",
       "    .dataframe tbody tr th:only-of-type {\n",
       "        vertical-align: middle;\n",
       "    }\n",
       "\n",
       "    .dataframe tbody tr th {\n",
       "        vertical-align: top;\n",
       "    }\n",
       "\n",
       "    .dataframe thead th {\n",
       "        text-align: right;\n",
       "    }\n",
       "</style>\n",
       "<table border=\"1\" class=\"dataframe\">\n",
       "  <thead>\n",
       "    <tr style=\"text-align: right;\">\n",
       "      <th></th>\n",
       "      <th>date</th>\n",
       "      <th>Temperature</th>\n",
       "      <th>Humidity</th>\n",
       "      <th>Light</th>\n",
       "      <th>CO2</th>\n",
       "      <th>HumidityRatio</th>\n",
       "      <th>Occupancy</th>\n",
       "    </tr>\n",
       "  </thead>\n",
       "  <tbody>\n",
       "    <tr>\n",
       "      <th>1</th>\n",
       "      <td>2015-02-04 17:51:00</td>\n",
       "      <td>23.18</td>\n",
       "      <td>27.2720</td>\n",
       "      <td>426.0</td>\n",
       "      <td>721.25</td>\n",
       "      <td>0.004793</td>\n",
       "      <td>1</td>\n",
       "    </tr>\n",
       "    <tr>\n",
       "      <th>2</th>\n",
       "      <td>2015-02-04 17:51:59</td>\n",
       "      <td>23.15</td>\n",
       "      <td>27.2675</td>\n",
       "      <td>429.5</td>\n",
       "      <td>714.00</td>\n",
       "      <td>0.004783</td>\n",
       "      <td>1</td>\n",
       "    </tr>\n",
       "    <tr>\n",
       "      <th>3</th>\n",
       "      <td>2015-02-04 17:53:00</td>\n",
       "      <td>23.15</td>\n",
       "      <td>27.2450</td>\n",
       "      <td>426.0</td>\n",
       "      <td>713.50</td>\n",
       "      <td>0.004779</td>\n",
       "      <td>1</td>\n",
       "    </tr>\n",
       "    <tr>\n",
       "      <th>4</th>\n",
       "      <td>2015-02-04 17:54:00</td>\n",
       "      <td>23.15</td>\n",
       "      <td>27.2000</td>\n",
       "      <td>426.0</td>\n",
       "      <td>708.25</td>\n",
       "      <td>0.004772</td>\n",
       "      <td>1</td>\n",
       "    </tr>\n",
       "    <tr>\n",
       "      <th>5</th>\n",
       "      <td>2015-02-04 17:55:00</td>\n",
       "      <td>23.10</td>\n",
       "      <td>27.2000</td>\n",
       "      <td>426.0</td>\n",
       "      <td>704.50</td>\n",
       "      <td>0.004757</td>\n",
       "      <td>1</td>\n",
       "    </tr>\n",
       "  </tbody>\n",
       "</table>\n",
       "</div>"
      ],
      "text/plain": [
       "                  date  Temperature  Humidity  Light     CO2  HumidityRatio  \\\n",
       "1  2015-02-04 17:51:00        23.18   27.2720  426.0  721.25       0.004793   \n",
       "2  2015-02-04 17:51:59        23.15   27.2675  429.5  714.00       0.004783   \n",
       "3  2015-02-04 17:53:00        23.15   27.2450  426.0  713.50       0.004779   \n",
       "4  2015-02-04 17:54:00        23.15   27.2000  426.0  708.25       0.004772   \n",
       "5  2015-02-04 17:55:00        23.10   27.2000  426.0  704.50       0.004757   \n",
       "\n",
       "   Occupancy  \n",
       "1          1  \n",
       "2          1  \n",
       "3          1  \n",
       "4          1  \n",
       "5          1  "
      ]
     },
     "execution_count": 25,
     "metadata": {},
     "output_type": "execute_result"
    }
   ],
   "source": [
    "occupancy_train.head()"
   ]
  },
  {
   "cell_type": "code",
   "execution_count": 26,
   "metadata": {
    "id": "ilAaz8g6ZOfY"
   },
   "outputs": [],
   "source": [
    "occupancy_test = pd.read_csv(\"content/datatest.txt\")"
   ]
  },
  {
   "cell_type": "code",
   "execution_count": 27,
   "metadata": {
    "colab": {
     "base_uri": "https://localhost:8080/",
     "height": 206
    },
    "executionInfo": {
     "elapsed": 18,
     "status": "ok",
     "timestamp": 1671527872970,
     "user": {
      "displayName": "Ángel Carmona",
      "userId": "03357454738723575825"
     },
     "user_tz": -60
    },
    "id": "d4EvmeK8ZT1L",
    "outputId": "fcc5a320-8066-4cf6-ed10-402455df8f05"
   },
   "outputs": [
    {
     "data": {
      "text/html": [
       "<div>\n",
       "<style scoped>\n",
       "    .dataframe tbody tr th:only-of-type {\n",
       "        vertical-align: middle;\n",
       "    }\n",
       "\n",
       "    .dataframe tbody tr th {\n",
       "        vertical-align: top;\n",
       "    }\n",
       "\n",
       "    .dataframe thead th {\n",
       "        text-align: right;\n",
       "    }\n",
       "</style>\n",
       "<table border=\"1\" class=\"dataframe\">\n",
       "  <thead>\n",
       "    <tr style=\"text-align: right;\">\n",
       "      <th></th>\n",
       "      <th>date</th>\n",
       "      <th>Temperature</th>\n",
       "      <th>Humidity</th>\n",
       "      <th>Light</th>\n",
       "      <th>CO2</th>\n",
       "      <th>HumidityRatio</th>\n",
       "      <th>Occupancy</th>\n",
       "    </tr>\n",
       "  </thead>\n",
       "  <tbody>\n",
       "    <tr>\n",
       "      <th>140</th>\n",
       "      <td>2015-02-02 14:19:00</td>\n",
       "      <td>23.7000</td>\n",
       "      <td>26.272</td>\n",
       "      <td>585.200000</td>\n",
       "      <td>749.200000</td>\n",
       "      <td>0.004764</td>\n",
       "      <td>1</td>\n",
       "    </tr>\n",
       "    <tr>\n",
       "      <th>141</th>\n",
       "      <td>2015-02-02 14:19:59</td>\n",
       "      <td>23.7180</td>\n",
       "      <td>26.290</td>\n",
       "      <td>578.400000</td>\n",
       "      <td>760.400000</td>\n",
       "      <td>0.004773</td>\n",
       "      <td>1</td>\n",
       "    </tr>\n",
       "    <tr>\n",
       "      <th>142</th>\n",
       "      <td>2015-02-02 14:21:00</td>\n",
       "      <td>23.7300</td>\n",
       "      <td>26.230</td>\n",
       "      <td>572.666667</td>\n",
       "      <td>769.666667</td>\n",
       "      <td>0.004765</td>\n",
       "      <td>1</td>\n",
       "    </tr>\n",
       "    <tr>\n",
       "      <th>143</th>\n",
       "      <td>2015-02-02 14:22:00</td>\n",
       "      <td>23.7225</td>\n",
       "      <td>26.125</td>\n",
       "      <td>493.750000</td>\n",
       "      <td>774.750000</td>\n",
       "      <td>0.004744</td>\n",
       "      <td>1</td>\n",
       "    </tr>\n",
       "    <tr>\n",
       "      <th>144</th>\n",
       "      <td>2015-02-02 14:23:00</td>\n",
       "      <td>23.7540</td>\n",
       "      <td>26.200</td>\n",
       "      <td>488.600000</td>\n",
       "      <td>779.000000</td>\n",
       "      <td>0.004767</td>\n",
       "      <td>1</td>\n",
       "    </tr>\n",
       "  </tbody>\n",
       "</table>\n",
       "</div>"
      ],
      "text/plain": [
       "                    date  Temperature  Humidity       Light         CO2  \\\n",
       "140  2015-02-02 14:19:00      23.7000    26.272  585.200000  749.200000   \n",
       "141  2015-02-02 14:19:59      23.7180    26.290  578.400000  760.400000   \n",
       "142  2015-02-02 14:21:00      23.7300    26.230  572.666667  769.666667   \n",
       "143  2015-02-02 14:22:00      23.7225    26.125  493.750000  774.750000   \n",
       "144  2015-02-02 14:23:00      23.7540    26.200  488.600000  779.000000   \n",
       "\n",
       "     HumidityRatio  Occupancy  \n",
       "140       0.004764          1  \n",
       "141       0.004773          1  \n",
       "142       0.004765          1  \n",
       "143       0.004744          1  \n",
       "144       0.004767          1  "
      ]
     },
     "execution_count": 27,
     "metadata": {},
     "output_type": "execute_result"
    }
   ],
   "source": [
    "occupancy_test.head()"
   ]
  },
  {
   "cell_type": "code",
   "execution_count": 28,
   "metadata": {
    "id": "gtvhFgfP1yS8"
   },
   "outputs": [],
   "source": [
    "#Como nos suministran los datos separados en test y entrenamiento, no hay que hacer partición del dataset en test y entrenamiento, como en el ejercicio 1\n",
    "#Ahora habría la fecha de los conjuntos test y entrenamiento.\n",
    "#Después habría que separar en los conjuntos de entrenamiento y test, los datos de las etiquetas/clases\n",
    "#Para estas dos acciones, ver el código suministrado del ejercicio 1.\n",
    "#Así se obtendrán los conjuntos X_train, X_test, y_train, y_test"
   ]
  },
  {
   "cell_type": "code",
   "execution_count": 29,
   "metadata": {
    "id": "Urtfnk4d92wm"
   },
   "outputs": [],
   "source": [
    "#Una vez obtenidos los conjuntos de test y de entrenamiento, hay que aplicar el escalado con StandarScaler (no vamos a usar pipe).\n",
    "#Para aplicarlo por ejemplo en X_train --> X_train = StandardScaler().fit_transform(X_train)"
   ]
  },
  {
   "cell_type": "markdown",
   "metadata": {},
   "source": [
    "# Tarea"
   ]
  },
  {
   "cell_type": "code",
   "execution_count": 30,
   "metadata": {},
   "outputs": [],
   "source": [
    "import numpy as np\n",
    "\n",
    "# Para la parte de preprocesamiento y modelado\n",
    "from sklearn.preprocessing import StandardScaler\n",
    "from sklearn.svm import SVC\n",
    "from sklearn.model_selection import GridSearchCV\n",
    "from sklearn.metrics import confusion_matrix, classification_report, accuracy_score, precision_score, recall_score, f1_score\n",
    "from sklearn.tree import DecisionTreeClassifier\n",
    "\n",
    "# Para gráficos\n",
    "import matplotlib.pyplot as plt\n",
    "from sklearn.metrics import ConfusionMatrixDisplay"
   ]
  },
  {
   "cell_type": "code",
   "execution_count": 31,
   "metadata": {},
   "outputs": [
    {
     "name": "stdout",
     "output_type": "stream",
     "text": [
      "Columnas en X_train: ['Temperature', 'Humidity', 'Light', 'CO2', 'HumidityRatio']\n",
      "Tamaño de X_train: (8143, 5)\n",
      "Tamaño de y_train: (8143,)\n",
      "Tamaño de X_test: (2665, 5)\n",
      "Tamaño de y_test: (2665,)\n"
     ]
    }
   ],
   "source": [
    "# Para entrenamiento\n",
    "X_train = occupancy_train.drop(['date', 'Occupancy'], axis=1)\n",
    "y_train = occupancy_train['Occupancy']\n",
    "\n",
    "# Para test\n",
    "X_test = occupancy_test.drop(['date', 'Occupancy'], axis=1)\n",
    "y_test = occupancy_test['Occupancy']\n",
    "\n",
    "print(\"Columnas en X_train:\", X_train.columns.tolist())\n",
    "print(\"Tamaño de X_train:\", X_train.shape)\n",
    "print(\"Tamaño de y_train:\", y_train.shape)\n",
    "print(\"Tamaño de X_test:\", X_test.shape)\n",
    "print(\"Tamaño de y_test:\", y_test.shape)"
   ]
  },
  {
   "cell_type": "code",
   "execution_count": 32,
   "metadata": {},
   "outputs": [
    {
     "name": "stdout",
     "output_type": "stream",
     "text": [
      "X_train_scaled shape: (8143, 5)\n",
      "X_test_scaled shape: (2665, 5)\n"
     ]
    }
   ],
   "source": [
    "scaler = StandardScaler()\n",
    "X_train_scaled = scaler.fit_transform(X_train)\n",
    "X_test_scaled = scaler.transform(X_test)\n",
    "\n",
    "# Vemos la forma final de X_train_scaled y X_test_scaled\n",
    "print(\"X_train_scaled shape:\", X_train_scaled.shape)\n",
    "print(\"X_test_scaled shape:\", X_test_scaled.shape)"
   ]
  },
  {
   "cell_type": "code",
   "execution_count": 33,
   "metadata": {},
   "outputs": [
    {
     "name": "stdout",
     "output_type": "stream",
     "text": [
      "Mejores parámetros para SVC: {'C': 2, 'kernel': 'linear'}\n",
      "Matriz de confusión (SVC):\n",
      " [[1639   54]\n",
      " [   3  969]]\n"
     ]
    },
    {
     "data": {
      "image/png": "[encoded data removed]",
      "text/plain": [
       "<Figure size 640x480 with 2 Axes>"
      ]
     },
     "metadata": {},
     "output_type": "display_data"
    },
    {
     "name": "stdout",
     "output_type": "stream",
     "text": [
      "Accuracy (SVC): 0.9786116322701689\n",
      "Precisión (SVC): 0.9472140762463344\n",
      "Recall (SVC): 0.9969135802469136\n",
      "F1 (SVC): 0.9714285714285714\n",
      "\n",
      "Reporte de clasificación (SVC):\n",
      "               precision    recall  f1-score   support\n",
      "\n",
      "           0       1.00      0.97      0.98      1693\n",
      "           1       0.95      1.00      0.97       972\n",
      "\n",
      "    accuracy                           0.98      2665\n",
      "   macro avg       0.97      0.98      0.98      2665\n",
      "weighted avg       0.98      0.98      0.98      2665\n",
      "\n"
     ]
    }
   ],
   "source": [
    "# Definición de la rejilla de parámetros para SVC (SVM)\n",
    "param_grid_svc = {\n",
    "    'C': [0.01, 0.1, 1, 2],\n",
    "    'kernel': [\"linear\", \"poly\", \"rbf\", \"sigmoid\"]\n",
    "}\n",
    "\n",
    "# Creación del estimador\n",
    "svc = SVC()\n",
    "\n",
    "# Definición de GridSearchCV con validación cruzada\n",
    "grid_svc = GridSearchCV(\n",
    "    estimator=svc, \n",
    "    param_grid=param_grid_svc,\n",
    "    cv=5,              # número de folds para la validación cruzada\n",
    "    scoring='accuracy',\n",
    "    n_jobs=-1          # usa todos los procesadores disponibles\n",
    ")\n",
    "\n",
    "# Entrenamiento (ajuste) del modelo con la rejilla\n",
    "grid_svc.fit(X_train_scaled, y_train)\n",
    "\n",
    "# Mejor combinación de hiperparámetros\n",
    "print(\"Mejores parámetros para SVC:\", grid_svc.best_params_)\n",
    "# Obtenemos el mejor modelo encontrado por la rejilla\n",
    "best_svc = grid_svc.best_estimator_\n",
    "\n",
    "# Predecimos sobre el conjunto de test\n",
    "y_pred_svc = best_svc.predict(X_test_scaled)\n",
    "\n",
    "# Mostramos la matriz de confusión en texto\n",
    "cm_svc = confusion_matrix(y_test, y_pred_svc)\n",
    "print(\"Matriz de confusión (SVC):\\n\", cm_svc)\n",
    "\n",
    "# Graficamos la matriz de confusión\n",
    "disp_svc = ConfusionMatrixDisplay(confusion_matrix=cm_svc, display_labels=[0, 1])\n",
    "disp_svc.plot(cmap=plt.cm.Blues)\n",
    "plt.title(\"Matriz de confusión - SVC\")\n",
    "plt.show()\n",
    "\n",
    "# Reporte de métricas\n",
    "accuracy_svc = accuracy_score(y_test, y_pred_svc)\n",
    "precision_svc = precision_score(y_test, y_pred_svc)\n",
    "recall_svc = recall_score(y_test, y_pred_svc)\n",
    "f1_svc = f1_score(y_test, y_pred_svc)\n",
    "\n",
    "print(\"Accuracy (SVC):\", accuracy_svc)\n",
    "print(\"Precisión (SVC):\", precision_svc)\n",
    "print(\"Recall (SVC):\", recall_svc)\n",
    "print(\"F1 (SVC):\", f1_svc)\n",
    "\n",
    "# También se puede imprimir un reporte de clasificación\n",
    "print(\"\\nReporte de clasificación (SVC):\\n\", classification_report(y_test, y_pred_svc))"
   ]
  },
  {
   "cell_type": "code",
   "execution_count": 34,
   "metadata": {},
   "outputs": [
    {
     "name": "stdout",
     "output_type": "stream",
     "text": [
      "Mejores parámetros para el árbol de decisión: {'max_leaf_nodes': 3, 'min_samples_split': 2}\n",
      "Matriz de confusión (Árbol de Decisión):\n",
      " [[1640   53]\n",
      " [   5  967]]\n"
     ]
    },
    {
     "data": {
      "image/png": "[encoded data removed]",
      "text/plain": [
       "<Figure size 640x480 with 2 Axes>"
      ]
     },
     "metadata": {},
     "output_type": "display_data"
    },
    {
     "name": "stdout",
     "output_type": "stream",
     "text": [
      "Accuracy (Árbol de Decisión): 0.9782363977485928\n",
      "Precisión (Árbol de Decisión): 0.9480392156862745\n",
      "Recall (Árbol de Decisión): 0.9948559670781894\n",
      "F1 (Árbol de Decisión): 0.9708835341365462\n",
      "\n",
      "Reporte de clasificación (Árbol de Decisión):\n",
      "               precision    recall  f1-score   support\n",
      "\n",
      "           0       1.00      0.97      0.98      1693\n",
      "           1       0.95      0.99      0.97       972\n",
      "\n",
      "    accuracy                           0.98      2665\n",
      "   macro avg       0.97      0.98      0.98      2665\n",
      "weighted avg       0.98      0.98      0.98      2665\n",
      "\n"
     ]
    }
   ],
   "source": [
    "# Definimos la rejilla de parámetros para el árbol de decisión.\n",
    "param_grid_dt = {\n",
    "    'max_leaf_nodes': list(range(3, 30)),\n",
    "    'min_samples_split': [2, 3, 4, 5, 6]\n",
    "}\n",
    "\n",
    "# Creamos el estimador\n",
    "dt = DecisionTreeClassifier(random_state=42)\n",
    "\n",
    "# Definimos el GridSearchCV\n",
    "grid_dt = GridSearchCV(\n",
    "    estimator=dt,\n",
    "    param_grid=param_grid_dt,\n",
    "    cv=5,\n",
    "    scoring='accuracy',\n",
    "    n_jobs=-1\n",
    ")\n",
    "\n",
    "# Entrenamos el modelo con la rejilla\n",
    "grid_dt.fit(X_train_scaled, y_train)\n",
    "\n",
    "# Mostramos los mejores parámetros\n",
    "print(\"Mejores parámetros para el árbol de decisión:\", grid_dt.best_params_)\n",
    "# Obtenemos el mejor modelo de árbol de decisión\n",
    "best_dt = grid_dt.best_estimator_\n",
    "\n",
    "# Realizamos las predicciones sobre el conjunto de test\n",
    "y_pred_dt = best_dt.predict(X_test_scaled)\n",
    "\n",
    "# Mostramos la matriz de confusión en texto\n",
    "cm_dt = confusion_matrix(y_test, y_pred_dt)\n",
    "print(\"Matriz de confusión (Árbol de Decisión):\\n\", cm_dt)\n",
    "\n",
    "# Graficamos la matriz de confusión\n",
    "disp_dt = ConfusionMatrixDisplay(confusion_matrix=cm_dt, display_labels=[0, 1])\n",
    "disp_dt.plot(cmap=plt.cm.Blues)\n",
    "plt.title(\"Matriz de confusión - Árbol de Decisión\")\n",
    "plt.show()\n",
    "\n",
    "# Reporte de métricas\n",
    "accuracy_dt = accuracy_score(y_test, y_pred_dt)\n",
    "precision_dt = precision_score(y_test, y_pred_dt)\n",
    "recall_dt = recall_score(y_test, y_pred_dt)\n",
    "f1_dt = f1_score(y_test, y_pred_dt)\n",
    "\n",
    "print(\"Accuracy (Árbol de Decisión):\", accuracy_dt)\n",
    "print(\"Precisión (Árbol de Decisión):\", precision_dt)\n",
    "print(\"Recall (Árbol de Decisión):\", recall_dt)\n",
    "print(\"F1 (Árbol de Decisión):\", f1_dt)\n",
    "\n",
    "# También podemos imprimir un reporte de clasificación\n",
    "print(\"\\nReporte de clasificación (Árbol de Decisión):\\n\", classification_report(y_test, y_pred_dt))"
   ]
  },
  {
   "cell_type": "code",
   "execution_count": 35,
   "metadata": {},
   "outputs": [],
   "source": [
    "%%bash\n",
    "rm -r content/ occupancy_data.zip"
   ]
  },
  {
   "cell_type": "markdown",
   "metadata": {},
   "source": [
    "## Resumen de pasos y resultados\n",
    "\n",
    "**Pasos realizados:**\n",
    "1. Se cargaron los datos de entrenamiento (`datatraining.txt`) y de test (`datatest.txt`).\n",
    "2. Se eliminaron las columnas no relevantes para la clasificación (en este caso, la columna `date`).\n",
    "3. Se separaron las características (`X`) de la etiqueta/clase (`y`).\n",
    "4. Se aplicó un escalado de datos usando `StandardScaler` en los atributos de entrenamiento y test.\n",
    "5. Se definió una rejilla de parámetros para un clasificador `SVC` (máquina de soporte vectorial) con los valores:\n",
    "   - `C`: [0.01, 0.1, 1, 2]\n",
    "   - `kernel`: [\"linear\", \"poly\", \"rbf\", \"sigmoid\"]\n",
    "6. Se entrenó el `GridSearchCV` para encontrar la mejor combinación de parámetros, se obtuvo el mejor estimador y se evaluó en el conjunto de test. Se mostraron:\n",
    "   - Matriz de confusión (en texto y gráfica)\n",
    "   - Métricas de _accuracy_, _precisión_, _recall_ y _f1_.\n",
    "7. Se implementó un clasificador de árbol de decisión con la rejilla de parámetros:\n",
    "   - `max_leaf_nodes`: [3..29]\n",
    "   - `min_samples_split`: [2, 3, 4, 5, 6]\n",
    "8. Se entrenó el modelo y se obtuvo la mejor combinación de parámetros. También se mostraron:\n",
    "   - Matriz de confusión (en texto y gráfica)\n",
    "   - Métricas de _accuracy_, _precisión_, _recall_ y _f1_."
   ]
  }
 ],
 "metadata": {
  "colab": {
   "authorship_tag": "ABX9TyOpkxnBM/NvWQhOkE6VUJKV",
   "provenance": []
  },
  "kernelspec": {
   "display_name": ".venv",
   "language": "python",
   "name": "python3"
  },
  "language_info": {
   "codemirror_mode": {
    "name": "ipython",
    "version": 3
   },
   "file_extension": ".py",
   "mimetype": "text/x-python",
   "name": "python",
   "nbconvert_exporter": "python",
   "pygments_lexer": "ipython3",
   "version": "3.10.12"
  }
 },
 "nbformat": 4,
 "nbformat_minor": 0
}
