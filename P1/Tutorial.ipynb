{
  "cells": [
    {
      "cell_type": "markdown",
      "metadata": {
        "id": "view-in-github",
        "colab_type": "text"
      },
      "source": [
        "<a href=\"https://colab.research.google.com/github/MarcosRigal/CNC/blob/main/P1/Tutorial.ipynb\" target=\"_parent\"><img src=\"https://colab.research.google.com/assets/colab-badge.svg\" alt=\"Open In Colab\"/></a>"
      ]
    },
    {
      "cell_type": "markdown",
      "metadata": {
        "id": "qbnYTa7_ZT7k"
      },
      "source": [
        "# Tutorial de scikit-multilearn\n",
        "\n",
        "Scikit-multilearn es una biblioteca con licencia BSD para clasificación multietiqueta construida sobre el ecosistema de scikit-learn."
      ]
    },
    {
      "cell_type": "markdown",
      "metadata": {
        "id": "c2v59ISYZT7l"
      },
      "source": [
        "## Instalación\n",
        "\n",
        "Para instalar scikit-multilearn, ejecute el siguiente comando:"
      ]
    },
    {
      "cell_type": "code",
      "execution_count": null,
      "metadata": {
        "id": "install"
      },
      "outputs": [],
      "source": [
        "!pip install scikit-multilearn arff"
      ]
    },
    {
      "cell_type": "markdown",
      "metadata": {
        "id": "De8dBqyfZT7n"
      },
      "source": [
        "## Cargando el conjunto de datos\n",
        "\n",
        "En este tutorial, utilizaremos el conjunto de datos 'emotions'."
      ]
    },
    {
      "cell_type": "code",
      "execution_count": null,
      "metadata": {
        "id": "load_dataset"
      },
      "outputs": [],
      "source": [
        "from skmultilearn.dataset import load_dataset\n",
        "\n",
        "X_train, y_train, feature_names, label_names = load_dataset('emotions', 'train')\n",
        "X_test, y_test, _, _ = load_dataset('emotions', 'test')"
      ]
    },
    {
      "cell_type": "markdown",
      "metadata": {
        "id": "8n1OanyVZT7n"
      },
      "source": [
        "## Explorando las características y etiquetas\n",
        "\n",
        "Veamos las primeras características y etiquetas del conjunto de datos."
      ]
    },
    {
      "cell_type": "code",
      "execution_count": null,
      "metadata": {
        "id": "explore_features_labels"
      },
      "outputs": [],
      "source": [
        "print(\"Primeras 10 características:\")\n",
        "print(feature_names[:10])\n",
        "\n",
        "print(\"\\nEtiquetas:\")\n",
        "print(label_names)"
      ]
    },
    {
      "cell_type": "markdown",
      "metadata": {
        "id": "zuQyo0A_ZT7o"
      },
      "source": [
        "## Entrenando un clasificador multietiqueta\n",
        "\n",
        "Utilizaremos el método Binary Relevance con un clasificador SVM."
      ]
    },
    {
      "cell_type": "code",
      "execution_count": null,
      "metadata": {
        "id": "train_classifier"
      },
      "outputs": [],
      "source": [
        "from skmultilearn.problem_transform import BinaryRelevance\n",
        "from sklearn.svm import SVC\n",
        "\n",
        "clf = BinaryRelevance(classifier=SVC(), require_dense=[False, True])\n",
        "clf.fit(X_train, y_train)"
      ]
    },
    {
      "cell_type": "markdown",
      "metadata": {
        "id": "5fbo3qRhZT7p"
      },
      "source": [
        "## Realizando predicciones\n",
        "\n",
        "Utilizaremos el clasificador entrenado para predecir las etiquetas del conjunto de prueba."
      ]
    },
    {
      "cell_type": "code",
      "execution_count": null,
      "metadata": {
        "id": "make_predictions"
      },
      "outputs": [],
      "source": [
        "predictions = clf.predict(X_test)\n",
        "print(predictions)"
      ]
    },
    {
      "cell_type": "markdown",
      "metadata": {
        "id": "arIpk5XqZT7p"
      },
      "source": [
        "## Evaluando el modelo\n",
        "\n",
        "Mediremos la calidad del modelo utilizando métricas como Hamming Loss y Accuracy."
      ]
    },
    {
      "cell_type": "code",
      "execution_count": null,
      "metadata": {
        "id": "evaluate_model"
      },
      "outputs": [],
      "source": [
        "from sklearn.metrics import hamming_loss, accuracy_score\n",
        "\n",
        "h_loss = hamming_loss(y_test, predictions)\n",
        "accuracy = accuracy_score(y_test, predictions)\n",
        "\n",
        "print(f\"Hamming Loss: {h_loss}\")\n",
        "print(f\"Accuracy: {accuracy}\")"
      ]
    }
  ],
  "metadata": {
    "colab": {
      "name": "Tutorial de scikit-multilearn",
      "provenance": [],
      "include_colab_link": true
    },
    "kernelspec": {
      "display_name": "Python 3",
      "name": "python3"
    },
    "language_info": {
      "name": "python",
      "version": "3.8"
    }
  },
  "nbformat": 4,
  "nbformat_minor": 0
}