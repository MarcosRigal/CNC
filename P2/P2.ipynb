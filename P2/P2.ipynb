{
  "nbformat": 4,
  "nbformat_minor": 0,
  "metadata": {
    "colab": {
      "name": "P2.ipynb",
      "provenance": []
    },
    "kernelspec": {
      "display_name": ".venv",
      "language": "python",
      "name": "python3"
    },
    "language_info": {
      "codemirror_mode": {
        "name": "ipython"
      },
      "file_extension": ".py",
      "mimetype": "text/x-python",
      "name": "python",
      "nbconvert_exporter": "python",
      "pygments_lexer": "ipython3",
      "version": "3.10.12"
    }
  },
  "cells": [
    {
      "cell_type": "markdown",
      "metadata": {
        "id": "title"
      },
      "source": [
        "# **Práctica 2: Clasificación Multi-Instancia**\n",
        "\n",
        "## Opción 2: Comparación de métodos\n",
        "\n",
        "**Objetivo**: Comparar al menos dos algoritmos disponibles en bibliotecas de aprendizaje multi-instancia. Se seleccionan al menos tres conjuntos de datos de tipo multi-instancia para realizar la evaluación y comparación.\n",
        "\n",
        "En este notebook:\n",
        "- Se entrenan dos modelos de clasificación multi-instancia: **MISVM** y **MILES**.\n",
        "- Se usan tres datasets: (en este caso se ejemplifica con) **Musk1**, **Elephant** y **Breast Cancer**.\n",
        "- Se comparan sus resultados (precisión, F1, AUC y matrices de confusión).\n",
        "- Se presentan conclusiones sobre los hallazgos."
      ]
    },
    {
      "cell_type": "markdown",
      "metadata": {
        "id": "instalacion"
      },
      "source": [
        "## 1. Instalación de librerías\n",
        "Si usas Google Colab, puedes necesitar instalar las librerías correspondientes. Si ya tienes un entorno con `misvm` y `mil` instalados, puedes omitirlo."
      ]
    },
    {
      "cell_type": "code",
      "metadata": {
        "collapsed": true,
        "id": "instalacion-code"
      },
      "execution_count": null,
      "outputs": [],
      "source": [
        "!pip install git+https://github.com/garydoranjr/misvm.git\n",
        "!pip install numpy scikit-learn scipy tensorflow==2.12.0 mil"
      ]
    },
    {
      "cell_type": "markdown",
      "metadata": {
        "id": "importaciones"
      },
      "source": [
        "## 2. Importaciones y carga de datos\n",
        "Se importan las librerías necesarias y se cargan los datasets **Musk1**, **Elephant** y **Breast Cancer** a partir de la biblioteca `mil`.\n",
        "\n",
        "También se realiza un preprocesamiento que incluye:\n",
        "- **Imputación** de valores faltantes con la media (sobre cada característica en el conjunto de entrenamiento).\n",
        "- **Estandarización** (z-score) basándose en la media y desviación estándar del conjunto de entrenamiento."
      ]
    },
    {
      "cell_type": "code",
      "metadata": {
        "id": "load-data"
      },
      "execution_count": null,
      "outputs": [],
      "source": [
        "import numpy as np\n",
        "import matplotlib.pyplot as plt\n",
        "import seaborn as sns\n",
        "from sklearn.metrics import accuracy_score, f1_score, confusion_matrix\n",
        "from mil.data.datasets import loader\n",
        "import misvm\n",
        "from mil.bag_representation import MILESMapping\n",
        "from mil.validators import LeaveOneOut\n",
        "from mil.models import SVC\n",
        "from mil.trainer import Trainer\n",
        "from mil.metrics import AUC, Accuracy\n",
        "from sklearn.impute import SimpleImputer\n",
        "\n",
        "print(\"Cargando datasets...\")\n",
        "# Cargar Musk1\n",
        "(musk1_bags_train, musk1_y_train), (musk1_bags_test, musk1_y_test) = loader.load_data('/usr/local/lib/python3.11/dist-packages/mil/data/datasets/csv/musk1.csv')\n",
        "# Cargar Elephant\n",
        "(elephant_bags_train, elephant_y_train), (elephant_bags_test, elephant_y_test) = loader.load_data('/usr/local/lib/python3.11/dist-packages/mil/data/datasets/csv/elephant.csv')\n",
        "# Cargar Breast Cancer\n",
        "(breast_cancer_bags_train, breast_cancer_y_train), (breast_cancer_bags_test, breast_cancer_y_test) = loader.load_data('/usr/local/lib/python3.11/dist-packages/mil/data/datasets/csv/ucsb_breast_cancer.csv')\n",
        "\n",
        "def impute_missing_values(bags_train, bags_test):\n",
        "    \"\"\"Imputa valores faltantes usando la media del conjunto de entrenamiento.\"\"\"\n",
        "    imputer = SimpleImputer(strategy=\"mean\")\n",
        "    bags_train_imputed = [imputer.fit_transform(bag) for bag in bags_train]\n",
        "    # En test, se usan estadísticas calculadas en el train\n",
        "    bags_test_imputed = [imputer.transform(bag) for bag in bags_test]\n",
        "    return bags_train_imputed, bags_test_imputed\n",
        "\n",
        "def robust_standardize(bags_train, bags_test):\n",
        "    \"\"\"Estandariza las bolsas usando media y desviación estándar del train.\"\"\"\n",
        "    standardized_bags_train = []\n",
        "    standardized_bags_test = []\n",
        "    \n",
        "    # Calcular mean y std usando todas las instancias del train\n",
        "    means = np.mean(np.vstack(bags_train), axis=0)\n",
        "    stds = np.std(np.vstack(bags_train), axis=0)\n",
        "    stds[stds == 0] = 1  # Para evitar división por cero\n",
        "\n",
        "    for bag in bags_train:\n",
        "        standardized_bags_train.append((bag - means) / stds)\n",
        "    for bag in bags_test:\n",
        "        standardized_bags_test.append((bag - means) / stds)\n",
        "    return standardized_bags_train, standardized_bags_test\n",
        "\n",
        "datasets = {\n",
        "    \"Musk1\": (musk1_bags_train, musk1_bags_test, musk1_y_train, musk1_y_test),\n",
        "    \"Elephant\": (elephant_bags_train, elephant_bags_test, elephant_y_train, elephant_y_test),\n",
        "    \"Breast Cancer\": (breast_cancer_bags_train, breast_cancer_bags_test, breast_cancer_y_train, breast_cancer_y_test)\n",
        "}\n",
        "\n",
        "# Aplicar preprocesamiento a cada conjunto\n",
        "for name, (train_bags, test_bags, y_train, y_test) in datasets.items():\n",
        "    print(f\"\\nPreprocesando {name}...\")\n",
        "    train_bags, test_bags = impute_missing_values(train_bags, test_bags)\n",
        "    train_bags, test_bags = robust_standardize(train_bags, test_bags)\n",
        "    if name == \"Musk1\":\n",
        "        musk1_bags_train, musk1_bags_test = train_bags, test_bags\n",
        "    elif name == \"Elephant\":\n",
        "        elephant_bags_train, elephant_bags_test = train_bags, test_bags\n",
        "    elif name == \"Breast Cancer\":\n",
        "        breast_cancer_bags_train, breast_cancer_bags_test = train_bags, test_bags\n",
        "\n",
        "print(\"\\nDatos cargados y preprocesados correctamente.\")"
      ]
    },
    {
      "cell_type": "markdown",
      "metadata": {
        "id": "definicion-eval"
      },
      "source": [
        "## 3. Definición de funciones de evaluación\n",
        "En esta sección definimos:\n",
        "\n",
        "- `evaluate_misvm(...)`: para entrenar y evaluar un clasificador **MISVM** (de la librería [garydoranjr/misvm](https://github.com/garydoranjr/misvm)).\n",
        "- `evaluate_miles(...)`: para entrenar y evaluar un clasificador **MILES** usando la biblioteca [`mil`](https://pypi.org/project/mil/)."
      ]
    },
    {
      "cell_type": "code",
      "metadata": {
        "id": "evaluate-functions"
      },
      "execution_count": null,
      "outputs": [],
      "source": [
        "def evaluate_misvm(bags_train, y_train, bags_test, y_test, kernel='linear', C=1.0, max_iters=50):\n",
        "    \"\"\"\n",
        "    Entrena y evalúa un clasificador MISVM.\n",
        "    Retorna (accuracy, f1_score, matriz_confusion).\n",
        "    \"\"\"\n",
        "    print(f\"Entrenando MISVM con kernel={kernel}, C={C}...\")\n",
        "    classifier = misvm.MISVM(kernel=kernel, C=C, max_iters=max_iters)\n",
        "\n",
        "    # Convertir etiquetas a binario (0 o 1)\n",
        "    y_train_binary = np.array([1 if y > 0 else 0 for y in y_train])\n",
        "    y_test_binary = np.array([1 if y > 0 else 0 for y in y_test])\n",
        "\n",
        "    try:\n",
        "        classifier.fit(bags_train, y_train_binary)\n",
        "        y_pred = classifier.predict(bags_test)\n",
        "        # Asegurar predicciones binarias\n",
        "        y_pred_binary = np.array([1 if pred > 0 else 0 for pred in y_pred])\n",
        "\n",
        "        acc = accuracy_score(y_test_binary, y_pred_binary)\n",
        "        f1 = f1_score(y_test_binary, y_pred_binary, zero_division=0)\n",
        "        cm = confusion_matrix(y_test_binary, y_pred_binary)\n",
        "        return acc, f1, cm\n",
        "    except Exception as e:\n",
        "        print(f\"Error entrenando MISVM: {e}\")\n",
        "        # Retornar valores por defecto en caso de error\n",
        "        return 0.0, 0.0, np.array([[0, 0], [0, 0]])\n",
        "\n",
        "def evaluate_miles(bags_train, y_train, bags_test, y_test, kernel='linear', C=1.0):\n",
        "    \"\"\"\n",
        "    Entrena y evalúa MILES utilizando el pipeline de la librería mil.\n",
        "    Retorna (accuracy, auc).\n",
        "    \"\"\"\n",
        "    print(f\"Entrenando MILES con kernel={kernel}, C={C}...\")\n",
        "    trainer = Trainer()\n",
        "    metrics = [Accuracy, AUC]\n",
        "    model = SVC(kernel=kernel, C=C, class_weight='balanced')\n",
        "    # MILESMapping realiza el mapeo de instancias a \"prototipos\".\n",
        "    pipeline = [('disc_mapping', MILESMapping())]\n",
        "    trainer.prepare(model, preprocess_pipeline=pipeline, metrics=metrics)\n",
        "\n",
        "    # Convertir etiquetas a binario\n",
        "    y_train_binary = np.array([1 if y > 0 else 0 for y in y_train])\n",
        "    y_test_binary = np.array([1 if y > 0 else 0 for y in y_test])\n",
        "\n",
        "    valid = LeaveOneOut()\n",
        "    try:\n",
        "        trainer.fit(bags_train, y_train_binary, sample_weights='balanced', validation_strategy=valid, verbose=0)\n",
        "        result = trainer.predict_metrics(bags_test, y_test_binary)\n",
        "        acc = result.get('accuracy', 0.0)\n",
        "        auc_ = result.get('auc', 0.5)\n",
        "        return acc, auc_\n",
        "    except Exception as e:\n",
        "        print(f\"Error entrenando MILES: {e}\")\n",
        "        return 0.0, 0.5"
      ]
    },
    {
      "cell_type": "markdown",
      "metadata": {
        "id": "experimentos"
      },
      "source": [
        "## 4. Ejecución de experimentos\n",
        "En esta sección se entrena y evalúa cada uno de los algoritmos en los datasets (Musk1, Elephant y Breast Cancer)."
      ]
    },
    {
      "cell_type": "code",
      "metadata": {
        "id": "run-experiments"
      },
      "execution_count": null,
      "outputs": [],
      "source": [
        "# Etiquetas originales (cargadas arriba)\n",
        "# musk1_bags_train, musk1_bags_test, musk1_y_train, musk1_y_test\n",
        "# elephant_bags_train, elephant_bags_test, elephant_y_train, elephant_y_test\n",
        "# breast_cancer_bags_train, breast_cancer_bags_test, breast_cancer_y_train, breast_cancer_y_test\n",
        "\n",
        "print(\"\\n=== Evaluando MILES ===\")\n",
        "print(\"(1) MILES en Musk1...\")\n",
        "miles_musk1 = evaluate_miles(\n",
        "    musk1_bags_train, musk1_y_train,\n",
        "    musk1_bags_test, musk1_y_test,\n",
        "    kernel='linear', C=1.0\n",
        ")\n",
        "print(f\"Musk1 -> Accuracy: {miles_musk1[0]:.4f}, AUC: {miles_musk1[1]:.4f}\\n\")\n",
        "\n",
        "print(\"(2) MILES en Elephant...\")\n",
        "miles_elephant = evaluate_miles(\n",
        "    elephant_bags_train, elephant_y_train,\n",
        "    elephant_bags_test, elephant_y_test,\n",
        "    kernel='linear', C=1.0\n",
        ")\n",
        "print(f\"Elephant -> Accuracy: {miles_elephant[0]:.4f}, AUC: {miles_elephant[1]:.4f}\\n\")\n",
        "\n",
        "print(\"(3) MILES en Breast Cancer...\")\n",
        "miles_breast_cancer = evaluate_miles(\n",
        "    breast_cancer_bags_train, breast_cancer_y_train,\n",
        "    breast_cancer_bags_test, breast_cancer_y_test,\n",
        "    kernel='linear', C=1.0\n",
        ")\n",
        "print(f\"Breast Cancer -> Accuracy: {miles_breast_cancer[0]:.4f}, AUC: {miles_breast_cancer[1]:.4f}\\n\")\n",
        "\n",
        "print(\"\\n=== Evaluando MISVM ===\")\n",
        "print(\"(1) MISVM en Musk1...\")\n",
        "misvm_musk1 = evaluate_misvm(\n",
        "    musk1_bags_train, musk1_y_train,\n",
        "    musk1_bags_test, musk1_y_test,\n",
        "    kernel='rbf', C=10.0, max_iters=50\n",
        ")\n",
        "print(f\"Musk1 -> Accuracy: {misvm_musk1[0]:.4f}, F1: {misvm_musk1[1]:.4f}\\n\")\n",
        "\n",
        "print(\"(2) MISVM en Elephant...\")\n",
        "misvm_elephant = evaluate_misvm(\n",
        "    elephant_bags_train, elephant_y_train,\n",
        "    elephant_bags_test, elephant_y_test,\n",
        "    kernel='rbf', C=10.0, max_iters=50\n",
        ")\n",
        "print(f\"Elephant -> Accuracy: {misvm_elephant[0]:.4f}, F1: {misvm_elephant[1]:.4f}\\n\")\n",
        "\n",
        "print(\"(3) MISVM en Breast Cancer...\")\n",
        "misvm_breast_cancer = evaluate_misvm(\n",
        "    breast_cancer_bags_train, breast_cancer_y_train,\n",
        "    breast_cancer_bags_test, breast_cancer_y_test,\n",
        "    kernel='rbf', C=10.0, max_iters=50\n",
        ")\n",
        "print(f\"Breast Cancer -> Accuracy: {misvm_breast_cancer[0]:.4f}, F1: {misvm_breast_cancer[1]:.4f}\\n\")"
      ]
    },
    {
      "cell_type": "markdown",
      "metadata": {
        "id": "matrices-confusion"
      },
      "source": [
        "## 5. Visualización de matrices de confusión (MISVM)\n",
        "A continuación, se grafican las matrices de confusión de **MISVM** para cada dataset."
      ]
    },
    {
      "cell_type": "code",
      "metadata": {
        "id": "matrices"
      },
      "execution_count": null,
      "outputs": [],
      "source": [
        "def plot_confusion_matrix(cm, title):\n",
        "    plt.figure(figsize=(4, 4))\n",
        "    sns.heatmap(cm, annot=True, fmt='d', cmap='Blues')\n",
        "    plt.title(title)\n",
        "    plt.ylabel('True label')\n",
        "    plt.xlabel('Predicted label')\n",
        "    plt.show()\n",
        "\n",
        "print(\"\\n=== Matrices de confusión para MISVM ===\")\n",
        "plot_confusion_matrix(misvm_musk1[2], 'Musk1 - MISVM')\n",
        "plot_confusion_matrix(misvm_elephant[2], 'Elephant - MISVM')\n",
        "plot_confusion_matrix(misvm_breast_cancer[2], 'Breast Cancer - MISVM')"
      ]
    },
    {
      "cell_type": "markdown",
      "metadata": {
        "id": "comparacion"
      },
      "source": [
        "## 6. Comparación gráfica de la **Accuracy**\n",
        "Se crea una gráfica de barras para comparar la precisión de **MISVM** y **MILES** en cada dataset."
      ]
    },
    {
      "cell_type": "code",
      "metadata": {
        "id": "bar-plot"
      },
      "execution_count": null,
      "outputs": [],
      "source": [
        "# Vamos a reutilizar los resultados guardados:\n",
        "# misvm_musk1, misvm_elephant, misvm_breast_cancer\n",
        "# miles_musk1, miles_elephant, miles_breast_cancer\n",
        "\n",
        "def plot_comparison(datasets, misvm_metrics, miles_metrics, metric_name='Accuracy'):\n",
        "    \"\"\"\n",
        "    Crea un diagrama de barras comparando la métrica dada (por defecto, Accuracy)\n",
        "    para MISVM y MILES en cada dataset.\n",
        "    \"\"\"\n",
        "    # Para MISVM y MILES, en la posición [0] tenemos Accuracy\n",
        "    misvm_values = [m[0] for m in misvm_metrics]\n",
        "    miles_values = [m[0] for m in miles_metrics]\n",
        "\n",
        "    x = np.arange(len(datasets))\n",
        "    width = 0.35\n",
        "\n",
        "    fig, ax = plt.subplots(figsize=(8, 5))\n",
        "    ax.bar(x - width/2, misvm_values, width, label='MISVM')\n",
        "    ax.bar(x + width/2, miles_values, width, label='MILES')\n",
        "\n",
        "    ax.set_ylabel(metric_name)\n",
        "    ax.set_title(f'{metric_name} por algoritmo y dataset')\n",
        "    ax.set_xticks(x)\n",
        "    ax.set_xticklabels(datasets)\n",
        "    ax.set_ylim([0, 1])\n",
        "    ax.legend()\n",
        "    plt.show()\n",
        "\n",
        "datasets_names = ['Musk1', 'Elephant', 'BreastCancer']\n",
        "misvm_results = [misvm_musk1, misvm_elephant, misvm_breast_cancer]\n",
        "miles_results = [miles_musk1, miles_elephant, miles_breast_cancer]\n",
        "\n",
        "plot_comparison(datasets_names, misvm_results, miles_results, 'Accuracy')"
      ]
    },
    {
      "cell_type": "markdown",
      "metadata": {
        "id": "conclusiones"
      },
      "source": [
        "## 7. Conclusiones\n",
        "- Se han comparado dos métodos de clasificación multi-instancia: **MISVM** y **MILES**.\n",
        "- Se han utilizado tres conjuntos de datos de MIL: **Musk1**, **Elephant** y **Breast Cancer**.\n",
        "- Los resultados varían según la naturaleza de cada dataset. Algunas observaciones:\n",
        "  - En algunos casos, MILES (que mapea instancias a un espacio prototipo) puede superar a MISVM.\n",
        "  - En otros, la estrategia directa de MISVM funciona igual o mejor.\n",
        "- Factores como la imprecisión en los datos, número de instancias por bolsa, y la complejidad de las características influyen en el rendimiento.\n",
        "- Es posible afinar los hiperparámetros (kernel, C, etc.) o intentar otros esquemas de validación para mejorar los resultados.\n",
        "\n",
        "En conclusión, ambos métodos son viables para resolver problemas de clasificación multi-instancia; la elección puede depender del dominio, la disponibilidad de datos y los recursos de cómputo."
      ]
    }
  ]
}

